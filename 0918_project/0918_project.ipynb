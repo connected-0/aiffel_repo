{
 "cells": [
  {
   "cell_type": "code",
   "execution_count": 1,
   "metadata": {
    "ExecuteTime": {
     "end_time": "2023-09-17T06:15:01.987501600Z",
     "start_time": "2023-09-17T06:15:01.772419900Z"
    }
   },
   "outputs": [],
   "source": [
    "import pandas as pd\n",
    "import numpy as np\n",
    "import matplotlib.pyplot as plt\n",
    "import seaborn as sns"
   ]
  },
  {
   "cell_type": "code",
   "execution_count": 2,
   "metadata": {},
   "outputs": [],
   "source": [
    "# 경고 메시지 생략\n",
    "import warnings\n",
    "from pandas.core.common import SettingWithCopyWarning\n",
    "warnings.simplefilter(action=\"ignore\", category=SettingWithCopyWarning)"
   ]
  },
  {
   "cell_type": "code",
   "execution_count": 3,
   "metadata": {
    "ExecuteTime": {
     "end_time": "2023-09-17T06:15:02.002918800Z",
     "start_time": "2023-09-17T06:15:01.772926600Z"
    }
   },
   "outputs": [],
   "source": [
    "# 한글 시각화를 위한 seaborn 폰트설정\n",
    "plt.rcParams['axes.unicode_minus'] = False\n",
    "custom_params = {\"axes.spines.right\": False, \"axes.spines.top\": False}\n",
    "sns.set_theme(context='notebook',\n",
    "              style='darkgrid',\n",
    "              palette='pastel',\n",
    "              font='NanumBarunGothic',\n",
    "              rc=custom_params)"
   ]
  },
  {
   "cell_type": "markdown",
   "metadata": {},
   "source": [
    "## 데이터 불러오기"
   ]
  },
  {
   "cell_type": "code",
   "execution_count": 4,
   "metadata": {
    "ExecuteTime": {
     "end_time": "2023-09-17T06:15:02.435158500Z",
     "start_time": "2023-09-17T06:15:01.798307700Z"
    }
   },
   "outputs": [],
   "source": [
    "entry_data = pd.read_csv('/aiffel/data/entry_data.csv')\n",
    "sales_data = pd.read_csv('/aiffel/data/sales_data.csv')\n",
    "item_data = pd.read_csv('/aiffel/data/item_data.csv')\n",
    "item_entry_data = pd.read_csv('/aiffel/data/item_entry_data.csv')"
   ]
  },
  {
   "cell_type": "code",
   "execution_count": 5,
   "metadata": {
    "ExecuteTime": {
     "end_time": "2023-09-17T06:15:02.513945600Z",
     "start_time": "2023-09-17T06:15:01.908218200Z"
    }
   },
   "outputs": [
    {
     "name": "stdout",
     "output_type": "stream",
     "text": [
      "<class 'pandas.core.frame.DataFrame'>\n",
      "RangeIndex: 22555 entries, 0 to 22554\n",
      "Data columns (total 8 columns):\n",
      " #   Column  Non-Null Count  Dtype \n",
      "---  ------  --------------  ----- \n",
      " 0   요금제명    22292 non-null  object\n",
      " 1   입실      22555 non-null  object\n",
      " 2   퇴실      22555 non-null  object\n",
      " 3   이용      22533 non-null  object\n",
      " 4   위치      22555 non-null  object\n",
      " 5   금액      22555 non-null  int64 \n",
      " 6   구분      22555 non-null  object\n",
      " 7   고객      22555 non-null  object\n",
      "dtypes: int64(1), object(7)\n",
      "memory usage: 1.4+ MB\n",
      "None\n"
     ]
    },
    {
     "data": {
      "text/html": [
       "<div>\n",
       "<style scoped>\n",
       "    .dataframe tbody tr th:only-of-type {\n",
       "        vertical-align: middle;\n",
       "    }\n",
       "\n",
       "    .dataframe tbody tr th {\n",
       "        vertical-align: top;\n",
       "    }\n",
       "\n",
       "    .dataframe thead th {\n",
       "        text-align: right;\n",
       "    }\n",
       "</style>\n",
       "<table border=\"1\" class=\"dataframe\">\n",
       "  <thead>\n",
       "    <tr style=\"text-align: right;\">\n",
       "      <th></th>\n",
       "      <th>요금제명</th>\n",
       "      <th>입실</th>\n",
       "      <th>퇴실</th>\n",
       "      <th>이용</th>\n",
       "      <th>위치</th>\n",
       "      <th>금액</th>\n",
       "      <th>구분</th>\n",
       "      <th>고객</th>\n",
       "    </tr>\n",
       "  </thead>\n",
       "  <tbody>\n",
       "    <tr>\n",
       "      <th>0</th>\n",
       "      <td>시간요금제(1시간)</td>\n",
       "      <td>2022-04-01 23:39</td>\n",
       "      <td>2022-04-02 0:39</td>\n",
       "      <td>오전 1:00:00</td>\n",
       "      <td>선불기2</td>\n",
       "      <td>3000</td>\n",
       "      <td>퇴실</td>\n",
       "      <td>customer263717</td>\n",
       "    </tr>\n",
       "    <tr>\n",
       "      <th>1</th>\n",
       "      <td>시간요금제(1시간)</td>\n",
       "      <td>2022-04-01 23:39</td>\n",
       "      <td>2022-04-02 0:39</td>\n",
       "      <td>오전 1:00:00</td>\n",
       "      <td>선불기2</td>\n",
       "      <td>3000</td>\n",
       "      <td>퇴실</td>\n",
       "      <td>customer263717</td>\n",
       "    </tr>\n",
       "    <tr>\n",
       "      <th>2</th>\n",
       "      <td>무제한 입장권</td>\n",
       "      <td>2022-04-01 20:55</td>\n",
       "      <td>2022-04-01 21:41</td>\n",
       "      <td>오전 12:46:00</td>\n",
       "      <td>선불기2</td>\n",
       "      <td>7400</td>\n",
       "      <td>퇴실</td>\n",
       "      <td>customer247263</td>\n",
       "    </tr>\n",
       "    <tr>\n",
       "      <th>3</th>\n",
       "      <td>무제한 입장권</td>\n",
       "      <td>2022-04-01 20:55</td>\n",
       "      <td>2022-04-01 21:41</td>\n",
       "      <td>오전 12:46:00</td>\n",
       "      <td>선불기2</td>\n",
       "      <td>7400</td>\n",
       "      <td>퇴실</td>\n",
       "      <td>customer247263</td>\n",
       "    </tr>\n",
       "    <tr>\n",
       "      <th>4</th>\n",
       "      <td>한국대생 무제한 입장권</td>\n",
       "      <td>2022-04-01 19:54</td>\n",
       "      <td>2022-04-01 22:28</td>\n",
       "      <td>오전 2:33:00</td>\n",
       "      <td>선불기2</td>\n",
       "      <td>7400</td>\n",
       "      <td>퇴실</td>\n",
       "      <td>customer388928</td>\n",
       "    </tr>\n",
       "  </tbody>\n",
       "</table>\n",
       "</div>"
      ],
      "text/plain": [
       "           요금제명                입실                퇴실           이용    위치    금액  \\\n",
       "0    시간요금제(1시간)  2022-04-01 23:39   2022-04-02 0:39   오전 1:00:00  선불기2  3000   \n",
       "1    시간요금제(1시간)  2022-04-01 23:39   2022-04-02 0:39   오전 1:00:00  선불기2  3000   \n",
       "2       무제한 입장권  2022-04-01 20:55  2022-04-01 21:41  오전 12:46:00  선불기2  7400   \n",
       "3       무제한 입장권  2022-04-01 20:55  2022-04-01 21:41  오전 12:46:00  선불기2  7400   \n",
       "4  한국대생 무제한 입장권  2022-04-01 19:54  2022-04-01 22:28   오전 2:33:00  선불기2  7400   \n",
       "\n",
       "   구분              고객  \n",
       "0  퇴실  customer263717  \n",
       "1  퇴실  customer263717  \n",
       "2  퇴실  customer247263  \n",
       "3  퇴실  customer247263  \n",
       "4  퇴실  customer388928  "
      ]
     },
     "execution_count": 5,
     "metadata": {},
     "output_type": "execute_result"
    }
   ],
   "source": [
    "print(entry_data.info())\n",
    "entry_data.head()"
   ]
  },
  {
   "cell_type": "code",
   "execution_count": 6,
   "metadata": {
    "ExecuteTime": {
     "end_time": "2023-09-17T06:15:02.513945600Z",
     "start_time": "2023-09-17T06:15:01.971224200Z"
    }
   },
   "outputs": [
    {
     "name": "stdout",
     "output_type": "stream",
     "text": [
      "<class 'pandas.core.frame.DataFrame'>\n",
      "RangeIndex: 7105 entries, 0 to 7104\n",
      "Data columns (total 8 columns):\n",
      " #   Column  Non-Null Count  Dtype \n",
      "---  ------  --------------  ----- \n",
      " 0   결제일시    7105 non-null   object\n",
      " 1   판매위치    7105 non-null   object\n",
      " 2   상품명     7105 non-null   object\n",
      " 3   결제방식    7105 non-null   object\n",
      " 4   비고      7105 non-null   object\n",
      " 5   판매수량    7105 non-null   int64 \n",
      " 6   결제금액    7105 non-null   object\n",
      " 7   고객      6300 non-null   object\n",
      "dtypes: int64(1), object(7)\n",
      "memory usage: 444.2+ KB\n",
      "None\n"
     ]
    },
    {
     "data": {
      "text/html": [
       "<div>\n",
       "<style scoped>\n",
       "    .dataframe tbody tr th:only-of-type {\n",
       "        vertical-align: middle;\n",
       "    }\n",
       "\n",
       "    .dataframe tbody tr th {\n",
       "        vertical-align: top;\n",
       "    }\n",
       "\n",
       "    .dataframe thead th {\n",
       "        text-align: right;\n",
       "    }\n",
       "</style>\n",
       "<table border=\"1\" class=\"dataframe\">\n",
       "  <thead>\n",
       "    <tr style=\"text-align: right;\">\n",
       "      <th></th>\n",
       "      <th>결제일시</th>\n",
       "      <th>판매위치</th>\n",
       "      <th>상품명</th>\n",
       "      <th>결제방식</th>\n",
       "      <th>비고</th>\n",
       "      <th>판매수량</th>\n",
       "      <th>결제금액</th>\n",
       "      <th>고객</th>\n",
       "    </tr>\n",
       "  </thead>\n",
       "  <tbody>\n",
       "    <tr>\n",
       "      <th>0</th>\n",
       "      <td>2022-04-01 19:41</td>\n",
       "      <td>선불기1</td>\n",
       "      <td>치킨카라아케 6pc</td>\n",
       "      <td>신용카드</td>\n",
       "      <td>결제완료</td>\n",
       "      <td>1</td>\n",
       "      <td>4,500</td>\n",
       "      <td>customer275507</td>\n",
       "    </tr>\n",
       "    <tr>\n",
       "      <th>1</th>\n",
       "      <td>2022-04-01 19:41</td>\n",
       "      <td>선불기1</td>\n",
       "      <td>짜장라면(계란추가)</td>\n",
       "      <td>신용카드</td>\n",
       "      <td>결제완료</td>\n",
       "      <td>1</td>\n",
       "      <td>5,500</td>\n",
       "      <td>customer275507</td>\n",
       "    </tr>\n",
       "    <tr>\n",
       "      <th>2</th>\n",
       "      <td>2022-04-01 19:41</td>\n",
       "      <td>선불기1</td>\n",
       "      <td>라면</td>\n",
       "      <td>신용카드</td>\n",
       "      <td>결제완료</td>\n",
       "      <td>1</td>\n",
       "      <td>4,000</td>\n",
       "      <td>customer275507</td>\n",
       "    </tr>\n",
       "    <tr>\n",
       "      <th>3</th>\n",
       "      <td>2022-04-01 19:41</td>\n",
       "      <td>선불기1</td>\n",
       "      <td>비엔나소세지(토핑)</td>\n",
       "      <td>신용카드</td>\n",
       "      <td>결제완료</td>\n",
       "      <td>1</td>\n",
       "      <td>1,000</td>\n",
       "      <td>customer275507</td>\n",
       "    </tr>\n",
       "    <tr>\n",
       "      <th>4</th>\n",
       "      <td>2022-04-01 19:41</td>\n",
       "      <td>선불기1</td>\n",
       "      <td>라면(계란/치즈추가)</td>\n",
       "      <td>신용카드</td>\n",
       "      <td>결제완료</td>\n",
       "      <td>1</td>\n",
       "      <td>5,000</td>\n",
       "      <td>customer275507</td>\n",
       "    </tr>\n",
       "  </tbody>\n",
       "</table>\n",
       "</div>"
      ],
      "text/plain": [
       "               결제일시  판매위치          상품명  결제방식    비고  판매수량   결제금액  \\\n",
       "0  2022-04-01 19:41  선불기1   치킨카라아케 6pc  신용카드  결제완료     1  4,500   \n",
       "1  2022-04-01 19:41  선불기1   짜장라면(계란추가)  신용카드  결제완료     1  5,500   \n",
       "2  2022-04-01 19:41  선불기1           라면  신용카드  결제완료     1  4,000   \n",
       "3  2022-04-01 19:41  선불기1   비엔나소세지(토핑)  신용카드  결제완료     1  1,000   \n",
       "4  2022-04-01 19:41  선불기1  라면(계란/치즈추가)  신용카드  결제완료     1  5,000   \n",
       "\n",
       "               고객  \n",
       "0  customer275507  \n",
       "1  customer275507  \n",
       "2  customer275507  \n",
       "3  customer275507  \n",
       "4  customer275507  "
      ]
     },
     "execution_count": 6,
     "metadata": {},
     "output_type": "execute_result"
    }
   ],
   "source": [
    "print(sales_data.info())\n",
    "sales_data.head()"
   ]
  },
  {
   "cell_type": "code",
   "execution_count": 7,
   "metadata": {
    "ExecuteTime": {
     "end_time": "2023-09-17T06:15:02.529582100Z",
     "start_time": "2023-09-17T06:15:01.987501600Z"
    }
   },
   "outputs": [
    {
     "name": "stdout",
     "output_type": "stream",
     "text": [
      "<class 'pandas.core.frame.DataFrame'>\n",
      "RangeIndex: 174 entries, 0 to 173\n",
      "Data columns (total 4 columns):\n",
      " #   Column  Non-Null Count  Dtype \n",
      "---  ------  --------------  ----- \n",
      " 0   구분      174 non-null    int64 \n",
      " 1   분류      174 non-null    object\n",
      " 2   상품명     174 non-null    object\n",
      " 3   판매금액    174 non-null    object\n",
      "dtypes: int64(1), object(3)\n",
      "memory usage: 5.6+ KB\n",
      "None\n"
     ]
    },
    {
     "data": {
      "text/html": [
       "<div>\n",
       "<style scoped>\n",
       "    .dataframe tbody tr th:only-of-type {\n",
       "        vertical-align: middle;\n",
       "    }\n",
       "\n",
       "    .dataframe tbody tr th {\n",
       "        vertical-align: top;\n",
       "    }\n",
       "\n",
       "    .dataframe thead th {\n",
       "        text-align: right;\n",
       "    }\n",
       "</style>\n",
       "<table border=\"1\" class=\"dataframe\">\n",
       "  <thead>\n",
       "    <tr style=\"text-align: right;\">\n",
       "      <th></th>\n",
       "      <th>구분</th>\n",
       "      <th>분류</th>\n",
       "      <th>상품명</th>\n",
       "      <th>판매금액</th>\n",
       "    </tr>\n",
       "  </thead>\n",
       "  <tbody>\n",
       "    <tr>\n",
       "      <th>0</th>\n",
       "      <td>1</td>\n",
       "      <td>게임&amp;TV</td>\n",
       "      <td>이어폰(커널형)</td>\n",
       "      <td>3,000원</td>\n",
       "    </tr>\n",
       "    <tr>\n",
       "      <th>1</th>\n",
       "      <td>2</td>\n",
       "      <td>디저트</td>\n",
       "      <td>초코머핀</td>\n",
       "      <td>3,500원</td>\n",
       "    </tr>\n",
       "    <tr>\n",
       "      <th>2</th>\n",
       "      <td>3</td>\n",
       "      <td>디저트</td>\n",
       "      <td>쿠키(초코칩)</td>\n",
       "      <td>1,500원</td>\n",
       "    </tr>\n",
       "    <tr>\n",
       "      <th>3</th>\n",
       "      <td>4</td>\n",
       "      <td>디저트</td>\n",
       "      <td>쿠키(마카다미아)</td>\n",
       "      <td>1,500원</td>\n",
       "    </tr>\n",
       "    <tr>\n",
       "      <th>4</th>\n",
       "      <td>5</td>\n",
       "      <td>디저트</td>\n",
       "      <td>미니마카롱(3개)</td>\n",
       "      <td>2,000원</td>\n",
       "    </tr>\n",
       "  </tbody>\n",
       "</table>\n",
       "</div>"
      ],
      "text/plain": [
       "   구분     분류        상품명    판매금액\n",
       "0   1  게임&TV   이어폰(커널형)  3,000원\n",
       "1   2    디저트       초코머핀  3,500원\n",
       "2   3    디저트    쿠키(초코칩)  1,500원\n",
       "3   4    디저트  쿠키(마카다미아)  1,500원\n",
       "4   5    디저트  미니마카롱(3개)  2,000원"
      ]
     },
     "execution_count": 7,
     "metadata": {},
     "output_type": "execute_result"
    }
   ],
   "source": [
    "print(item_data.info())\n",
    "item_data.head()"
   ]
  },
  {
   "cell_type": "code",
   "execution_count": 8,
   "metadata": {
    "ExecuteTime": {
     "end_time": "2023-09-17T06:15:02.529582100Z",
     "start_time": "2023-09-17T06:15:02.002918800Z"
    }
   },
   "outputs": [
    {
     "name": "stdout",
     "output_type": "stream",
     "text": [
      "<class 'pandas.core.frame.DataFrame'>\n",
      "RangeIndex: 34 entries, 0 to 33\n",
      "Data columns (total 4 columns):\n",
      " #   Column  Non-Null Count  Dtype \n",
      "---  ------  --------------  ----- \n",
      " 0   순위      34 non-null     int64 \n",
      " 1   분류      34 non-null     object\n",
      " 2   상품명     34 non-null     object\n",
      " 3   판매금액    34 non-null     object\n",
      "dtypes: int64(1), object(3)\n",
      "memory usage: 1.2+ KB\n",
      "None\n"
     ]
    },
    {
     "data": {
      "text/html": [
       "<div>\n",
       "<style scoped>\n",
       "    .dataframe tbody tr th:only-of-type {\n",
       "        vertical-align: middle;\n",
       "    }\n",
       "\n",
       "    .dataframe tbody tr th {\n",
       "        vertical-align: top;\n",
       "    }\n",
       "\n",
       "    .dataframe thead th {\n",
       "        text-align: right;\n",
       "    }\n",
       "</style>\n",
       "<table border=\"1\" class=\"dataframe\">\n",
       "  <thead>\n",
       "    <tr style=\"text-align: right;\">\n",
       "      <th></th>\n",
       "      <th>순위</th>\n",
       "      <th>분류</th>\n",
       "      <th>상품명</th>\n",
       "      <th>판매금액</th>\n",
       "    </tr>\n",
       "  </thead>\n",
       "  <tbody>\n",
       "    <tr>\n",
       "      <th>0</th>\n",
       "      <td>1</td>\n",
       "      <td>한국대생</td>\n",
       "      <td>한국대생 요금제</td>\n",
       "      <td>2,000원</td>\n",
       "    </tr>\n",
       "    <tr>\n",
       "      <th>1</th>\n",
       "      <td>2</td>\n",
       "      <td>심야-조조</td>\n",
       "      <td>심야-조조 요금제</td>\n",
       "      <td>5,000원</td>\n",
       "    </tr>\n",
       "    <tr>\n",
       "      <th>2</th>\n",
       "      <td>3</td>\n",
       "      <td>일반인</td>\n",
       "      <td>일반요금제</td>\n",
       "      <td>2,500원</td>\n",
       "    </tr>\n",
       "    <tr>\n",
       "      <th>3</th>\n",
       "      <td>4</td>\n",
       "      <td>한국대생</td>\n",
       "      <td>한국대생 요금제</td>\n",
       "      <td>2,500원</td>\n",
       "    </tr>\n",
       "    <tr>\n",
       "      <th>4</th>\n",
       "      <td>5</td>\n",
       "      <td>일반인</td>\n",
       "      <td>일반요금제</td>\n",
       "      <td>2,000원</td>\n",
       "    </tr>\n",
       "  </tbody>\n",
       "</table>\n",
       "</div>"
      ],
      "text/plain": [
       "   순위     분류        상품명    판매금액\n",
       "0   1   한국대생   한국대생 요금제  2,000원\n",
       "1   2  심야-조조  심야-조조 요금제  5,000원\n",
       "2   3    일반인      일반요금제  2,500원\n",
       "3   4   한국대생   한국대생 요금제  2,500원\n",
       "4   5    일반인      일반요금제  2,000원"
      ]
     },
     "execution_count": 8,
     "metadata": {},
     "output_type": "execute_result"
    }
   ],
   "source": [
    "print(item_entry_data.info())\n",
    "item_entry_data.head()"
   ]
  },
  {
   "cell_type": "markdown",
   "metadata": {},
   "source": [
    "## 데이터 분석하기\n",
    "\n",
    "* 필수 문제1 : 월별 매출액 추세(sales_data를 이용합니다.)\n",
    "* 월별 매출액 추세를 집계하고 그 결과를 시각화해봅니다.\n",
    "* 힌트: groupby() 함수를 사용하세요."
   ]
  },
  {
   "cell_type": "code",
   "execution_count": 9,
   "metadata": {
    "ExecuteTime": {
     "end_time": "2023-09-17T06:15:02.529582100Z",
     "start_time": "2023-09-17T06:15:02.013421800Z"
    }
   },
   "outputs": [
    {
     "data": {
      "text/html": [
       "<div>\n",
       "<style scoped>\n",
       "    .dataframe tbody tr th:only-of-type {\n",
       "        vertical-align: middle;\n",
       "    }\n",
       "\n",
       "    .dataframe tbody tr th {\n",
       "        vertical-align: top;\n",
       "    }\n",
       "\n",
       "    .dataframe thead th {\n",
       "        text-align: right;\n",
       "    }\n",
       "</style>\n",
       "<table border=\"1\" class=\"dataframe\">\n",
       "  <thead>\n",
       "    <tr style=\"text-align: right;\">\n",
       "      <th></th>\n",
       "      <th>결제일시</th>\n",
       "      <th>판매위치</th>\n",
       "      <th>상품명</th>\n",
       "      <th>결제방식</th>\n",
       "      <th>비고</th>\n",
       "      <th>판매수량</th>\n",
       "      <th>결제금액</th>\n",
       "      <th>고객</th>\n",
       "      <th>date</th>\n",
       "    </tr>\n",
       "  </thead>\n",
       "  <tbody>\n",
       "    <tr>\n",
       "      <th>0</th>\n",
       "      <td>2022-04-01 19:41</td>\n",
       "      <td>선불기1</td>\n",
       "      <td>치킨카라아케 6pc</td>\n",
       "      <td>신용카드</td>\n",
       "      <td>결제완료</td>\n",
       "      <td>1</td>\n",
       "      <td>4,500</td>\n",
       "      <td>customer275507</td>\n",
       "      <td>2022-04</td>\n",
       "    </tr>\n",
       "    <tr>\n",
       "      <th>1</th>\n",
       "      <td>2022-04-01 19:41</td>\n",
       "      <td>선불기1</td>\n",
       "      <td>짜장라면(계란추가)</td>\n",
       "      <td>신용카드</td>\n",
       "      <td>결제완료</td>\n",
       "      <td>1</td>\n",
       "      <td>5,500</td>\n",
       "      <td>customer275507</td>\n",
       "      <td>2022-04</td>\n",
       "    </tr>\n",
       "    <tr>\n",
       "      <th>2</th>\n",
       "      <td>2022-04-01 19:41</td>\n",
       "      <td>선불기1</td>\n",
       "      <td>라면</td>\n",
       "      <td>신용카드</td>\n",
       "      <td>결제완료</td>\n",
       "      <td>1</td>\n",
       "      <td>4,000</td>\n",
       "      <td>customer275507</td>\n",
       "      <td>2022-04</td>\n",
       "    </tr>\n",
       "    <tr>\n",
       "      <th>3</th>\n",
       "      <td>2022-04-01 19:41</td>\n",
       "      <td>선불기1</td>\n",
       "      <td>비엔나소세지(토핑)</td>\n",
       "      <td>신용카드</td>\n",
       "      <td>결제완료</td>\n",
       "      <td>1</td>\n",
       "      <td>1,000</td>\n",
       "      <td>customer275507</td>\n",
       "      <td>2022-04</td>\n",
       "    </tr>\n",
       "    <tr>\n",
       "      <th>4</th>\n",
       "      <td>2022-04-01 19:41</td>\n",
       "      <td>선불기1</td>\n",
       "      <td>라면(계란/치즈추가)</td>\n",
       "      <td>신용카드</td>\n",
       "      <td>결제완료</td>\n",
       "      <td>1</td>\n",
       "      <td>5,000</td>\n",
       "      <td>customer275507</td>\n",
       "      <td>2022-04</td>\n",
       "    </tr>\n",
       "    <tr>\n",
       "      <th>...</th>\n",
       "      <td>...</td>\n",
       "      <td>...</td>\n",
       "      <td>...</td>\n",
       "      <td>...</td>\n",
       "      <td>...</td>\n",
       "      <td>...</td>\n",
       "      <td>...</td>\n",
       "      <td>...</td>\n",
       "      <td>...</td>\n",
       "    </tr>\n",
       "    <tr>\n",
       "      <th>7100</th>\n",
       "      <td>2021-02-17 14:21</td>\n",
       "      <td>카운터</td>\n",
       "      <td>아메리카노(HOT)</td>\n",
       "      <td>현금</td>\n",
       "      <td>결제취소</td>\n",
       "      <td>-1</td>\n",
       "      <td>-3,500</td>\n",
       "      <td>NaN</td>\n",
       "      <td>2021-02</td>\n",
       "    </tr>\n",
       "    <tr>\n",
       "      <th>7101</th>\n",
       "      <td>2021-02-17 13:51</td>\n",
       "      <td>선불기2</td>\n",
       "      <td>카페모카(HOT)</td>\n",
       "      <td>신용카드</td>\n",
       "      <td>결제완료</td>\n",
       "      <td>1</td>\n",
       "      <td>4,500</td>\n",
       "      <td>NaN</td>\n",
       "      <td>2021-02</td>\n",
       "    </tr>\n",
       "    <tr>\n",
       "      <th>7102</th>\n",
       "      <td>2021-02-17 13:51</td>\n",
       "      <td>선불기2</td>\n",
       "      <td>카페모카(HOT)</td>\n",
       "      <td>신용카드</td>\n",
       "      <td>판매취소</td>\n",
       "      <td>-1</td>\n",
       "      <td>-4,500</td>\n",
       "      <td>NaN</td>\n",
       "      <td>2021-02</td>\n",
       "    </tr>\n",
       "    <tr>\n",
       "      <th>7103</th>\n",
       "      <td>2021-02-17 13:26</td>\n",
       "      <td>카운터</td>\n",
       "      <td>카페라떼(HOT)</td>\n",
       "      <td>신용카드</td>\n",
       "      <td>결제완료</td>\n",
       "      <td>1</td>\n",
       "      <td>4,000</td>\n",
       "      <td>NaN</td>\n",
       "      <td>2021-02</td>\n",
       "    </tr>\n",
       "    <tr>\n",
       "      <th>7104</th>\n",
       "      <td>2021-02-17 13:27</td>\n",
       "      <td>카운터</td>\n",
       "      <td>카페라떼(HOT)</td>\n",
       "      <td>신용카드</td>\n",
       "      <td>판매취소</td>\n",
       "      <td>-1</td>\n",
       "      <td>-4,000</td>\n",
       "      <td>NaN</td>\n",
       "      <td>2021-02</td>\n",
       "    </tr>\n",
       "  </tbody>\n",
       "</table>\n",
       "<p>7105 rows × 9 columns</p>\n",
       "</div>"
      ],
      "text/plain": [
       "                  결제일시  판매위치          상품명  결제방식    비고  판매수량    결제금액  \\\n",
       "0     2022-04-01 19:41  선불기1   치킨카라아케 6pc  신용카드  결제완료     1   4,500   \n",
       "1     2022-04-01 19:41  선불기1   짜장라면(계란추가)  신용카드  결제완료     1   5,500   \n",
       "2     2022-04-01 19:41  선불기1           라면  신용카드  결제완료     1   4,000   \n",
       "3     2022-04-01 19:41  선불기1   비엔나소세지(토핑)  신용카드  결제완료     1   1,000   \n",
       "4     2022-04-01 19:41  선불기1  라면(계란/치즈추가)  신용카드  결제완료     1   5,000   \n",
       "...                ...   ...          ...   ...   ...   ...     ...   \n",
       "7100  2021-02-17 14:21   카운터   아메리카노(HOT)    현금  결제취소    -1  -3,500   \n",
       "7101  2021-02-17 13:51  선불기2    카페모카(HOT)  신용카드  결제완료     1   4,500   \n",
       "7102  2021-02-17 13:51  선불기2    카페모카(HOT)  신용카드  판매취소    -1  -4,500   \n",
       "7103  2021-02-17 13:26   카운터    카페라떼(HOT)  신용카드  결제완료     1   4,000   \n",
       "7104  2021-02-17 13:27   카운터    카페라떼(HOT)  신용카드  판매취소    -1  -4,000   \n",
       "\n",
       "                  고객     date  \n",
       "0     customer275507  2022-04  \n",
       "1     customer275507  2022-04  \n",
       "2     customer275507  2022-04  \n",
       "3     customer275507  2022-04  \n",
       "4     customer275507  2022-04  \n",
       "...              ...      ...  \n",
       "7100             NaN  2021-02  \n",
       "7101             NaN  2021-02  \n",
       "7102             NaN  2021-02  \n",
       "7103             NaN  2021-02  \n",
       "7104             NaN  2021-02  \n",
       "\n",
       "[7105 rows x 9 columns]"
      ]
     },
     "execution_count": 9,
     "metadata": {},
     "output_type": "execute_result"
    }
   ],
   "source": [
    "# 문제 1: 월별 매출액 추세\n",
    "# 활용할 데이터(sales_data)를 temp_var로 정의하기\n",
    "temp_var = sales_data\n",
    "# temp_var의 date열을 만들고, sales_date의 결제일시 중 앞에서 7번째 값까지 할당\n",
    "temp_var['date'] = sales_data[\"결제일시\"].apply(lambda x: x[:7])\n",
    "temp_var"
   ]
  },
  {
   "cell_type": "code",
   "execution_count": 10,
   "metadata": {
    "ExecuteTime": {
     "end_time": "2023-09-17T06:15:02.529582100Z",
     "start_time": "2023-09-17T06:15:02.033772100Z"
    }
   },
   "outputs": [
    {
     "data": {
      "text/html": [
       "<div>\n",
       "<style scoped>\n",
       "    .dataframe tbody tr th:only-of-type {\n",
       "        vertical-align: middle;\n",
       "    }\n",
       "\n",
       "    .dataframe tbody tr th {\n",
       "        vertical-align: top;\n",
       "    }\n",
       "\n",
       "    .dataframe thead th {\n",
       "        text-align: right;\n",
       "    }\n",
       "</style>\n",
       "<table border=\"1\" class=\"dataframe\">\n",
       "  <thead>\n",
       "    <tr style=\"text-align: right;\">\n",
       "      <th></th>\n",
       "      <th>date</th>\n",
       "      <th>결제금액</th>\n",
       "    </tr>\n",
       "  </thead>\n",
       "  <tbody>\n",
       "    <tr>\n",
       "      <th>0</th>\n",
       "      <td>2021-02</td>\n",
       "      <td>7000</td>\n",
       "    </tr>\n",
       "    <tr>\n",
       "      <th>1</th>\n",
       "      <td>2021-03</td>\n",
       "      <td>2104500</td>\n",
       "    </tr>\n",
       "    <tr>\n",
       "      <th>2</th>\n",
       "      <td>2021-04</td>\n",
       "      <td>3116600</td>\n",
       "    </tr>\n",
       "    <tr>\n",
       "      <th>3</th>\n",
       "      <td>2021-05</td>\n",
       "      <td>2537000</td>\n",
       "    </tr>\n",
       "    <tr>\n",
       "      <th>4</th>\n",
       "      <td>2021-06</td>\n",
       "      <td>3621500</td>\n",
       "    </tr>\n",
       "    <tr>\n",
       "      <th>5</th>\n",
       "      <td>2021-07</td>\n",
       "      <td>1215000</td>\n",
       "    </tr>\n",
       "    <tr>\n",
       "      <th>6</th>\n",
       "      <td>2021-08</td>\n",
       "      <td>1229000</td>\n",
       "    </tr>\n",
       "    <tr>\n",
       "      <th>7</th>\n",
       "      <td>2021-09</td>\n",
       "      <td>1197500</td>\n",
       "    </tr>\n",
       "    <tr>\n",
       "      <th>8</th>\n",
       "      <td>2021-10</td>\n",
       "      <td>2138500</td>\n",
       "    </tr>\n",
       "    <tr>\n",
       "      <th>9</th>\n",
       "      <td>2021-11</td>\n",
       "      <td>2748500</td>\n",
       "    </tr>\n",
       "    <tr>\n",
       "      <th>10</th>\n",
       "      <td>2021-12</td>\n",
       "      <td>3290000</td>\n",
       "    </tr>\n",
       "    <tr>\n",
       "      <th>11</th>\n",
       "      <td>2022-01</td>\n",
       "      <td>1430500</td>\n",
       "    </tr>\n",
       "    <tr>\n",
       "      <th>12</th>\n",
       "      <td>2022-02</td>\n",
       "      <td>1181500</td>\n",
       "    </tr>\n",
       "    <tr>\n",
       "      <th>13</th>\n",
       "      <td>2022-03</td>\n",
       "      <td>1870900</td>\n",
       "    </tr>\n",
       "    <tr>\n",
       "      <th>14</th>\n",
       "      <td>2022-04</td>\n",
       "      <td>49900</td>\n",
       "    </tr>\n",
       "  </tbody>\n",
       "</table>\n",
       "</div>"
      ],
      "text/plain": [
       "       date     결제금액\n",
       "0   2021-02     7000\n",
       "1   2021-03  2104500\n",
       "2   2021-04  3116600\n",
       "3   2021-05  2537000\n",
       "4   2021-06  3621500\n",
       "5   2021-07  1215000\n",
       "6   2021-08  1229000\n",
       "7   2021-09  1197500\n",
       "8   2021-10  2138500\n",
       "9   2021-11  2748500\n",
       "10  2021-12  3290000\n",
       "11  2022-01  1430500\n",
       "12  2022-02  1181500\n",
       "13  2022-03  1870900\n",
       "14  2022-04    49900"
      ]
     },
     "execution_count": 10,
     "metadata": {},
     "output_type": "execute_result"
    }
   ],
   "source": [
    "# sales_data의 결제금액에 포함된 쉼표(,) 지우기\n",
    "temp_var[\"결제금액\"] = temp_var[\"결제금액\"].str.replace(\",\",\"\")\n",
    "# sales_data의 결제금액을 숫자형태로 바꾸기\n",
    "temp_var['결제금액'] = temp_var['결제금액'].astype('int')\n",
    "# temp_var의 payment열을 date 기준으로 집계하기\n",
    "payment_data = temp_var.groupby('date')['결제금액'].sum().reset_index()\n",
    "payment_data"
   ]
  },
  {
   "cell_type": "code",
   "execution_count": 11,
   "metadata": {
    "ExecuteTime": {
     "end_time": "2023-09-17T06:15:02.702434800Z",
     "start_time": "2023-09-17T06:15:02.057005100Z"
    }
   },
   "outputs": [
    {
     "data": {
      "image/png": "[encoded data removed]",
      "text/plain": [
       "<Figure size 720x432 with 1 Axes>"
      ]
     },
     "metadata": {},
     "output_type": "display_data"
    }
   ],
   "source": [
    "# 집계 결과를 시각화하기\n",
    "plt.figure(figsize=(10, 6))\n",
    "sns.barplot(data=payment_data, x='date', y='결제금액')\n",
    "plt.xlabel('날짜')\n",
    "plt.ylabel('결제액 합계')\n",
    "plt.xticks(rotation=45)\n",
    "plt.title('날짜별 결제액 합계')\n",
    "plt.show()"
   ]
  },
  {
   "cell_type": "markdown",
   "metadata": {},
   "source": [
    "* 필수 문제2: 가장 인기 있는 음식/음료(sales_data를 이용합니다.)\n",
    "* 여러 메뉴들(음식,음료)을 판매 개수 순으로 정렬하고 상위 10개를 뽑아 결과를 시각화해봅니다.\n",
    "* 힌트: value_counts() 함수를 사용하세요."
   ]
  },
  {
   "cell_type": "code",
   "execution_count": 12,
   "metadata": {
    "ExecuteTime": {
     "end_time": "2023-09-17T06:15:02.702434800Z",
     "start_time": "2023-09-17T06:15:02.497969700Z"
    }
   },
   "outputs": [
    {
     "data": {
      "text/html": [
       "<div>\n",
       "<style scoped>\n",
       "    .dataframe tbody tr th:only-of-type {\n",
       "        vertical-align: middle;\n",
       "    }\n",
       "\n",
       "    .dataframe tbody tr th {\n",
       "        vertical-align: top;\n",
       "    }\n",
       "\n",
       "    .dataframe thead th {\n",
       "        text-align: right;\n",
       "    }\n",
       "</style>\n",
       "<table border=\"1\" class=\"dataframe\">\n",
       "  <thead>\n",
       "    <tr style=\"text-align: right;\">\n",
       "      <th></th>\n",
       "      <th>상품명</th>\n",
       "    </tr>\n",
       "  </thead>\n",
       "  <tbody>\n",
       "    <tr>\n",
       "      <th>김치볶음밥</th>\n",
       "      <td>1204</td>\n",
       "    </tr>\n",
       "    <tr>\n",
       "      <th>라면</th>\n",
       "      <td>749</td>\n",
       "    </tr>\n",
       "    <tr>\n",
       "      <th>짜장라면</th>\n",
       "      <td>455</td>\n",
       "    </tr>\n",
       "    <tr>\n",
       "      <th>치즈불고기볶음밥</th>\n",
       "      <td>420</td>\n",
       "    </tr>\n",
       "    <tr>\n",
       "      <th>계란추가</th>\n",
       "      <td>314</td>\n",
       "    </tr>\n",
       "    <tr>\n",
       "      <th>낙지볶음밥</th>\n",
       "      <td>312</td>\n",
       "    </tr>\n",
       "    <tr>\n",
       "      <th>새우볶음밥</th>\n",
       "      <td>309</td>\n",
       "    </tr>\n",
       "    <tr>\n",
       "      <th>아메리카노(ICE)</th>\n",
       "      <td>284</td>\n",
       "    </tr>\n",
       "    <tr>\n",
       "      <th>치즈감자튀김</th>\n",
       "      <td>246</td>\n",
       "    </tr>\n",
       "    <tr>\n",
       "      <th>감자튀김</th>\n",
       "      <td>242</td>\n",
       "    </tr>\n",
       "  </tbody>\n",
       "</table>\n",
       "</div>"
      ],
      "text/plain": [
       "             상품명\n",
       "김치볶음밥       1204\n",
       "라면           749\n",
       "짜장라면         455\n",
       "치즈불고기볶음밥     420\n",
       "계란추가         314\n",
       "낙지볶음밥        312\n",
       "새우볶음밥        309\n",
       "아메리카노(ICE)   284\n",
       "치즈감자튀김       246\n",
       "감자튀김         242"
      ]
     },
     "execution_count": 12,
     "metadata": {},
     "output_type": "execute_result"
    }
   ],
   "source": [
    "# 문제 2: 가장 인기 있는 음식/음료\n",
    "# temp_var의 상품명을 value_counts를 이용해 집계하기\n",
    "# 주의! value_counts로 바로 집계하면 판매취소와 결제취소가 함께 집계됩니다.\n",
    "# 따라서 '판매수량' 칼럼 값이 '-1'인 데이터를 제외하고 집계해야 합니다.\n",
    "temp_var = temp_var[temp_var['판매수량'] > -1]\n",
    "x = temp_var['상품명'].value_counts()\n",
    "# 집계 결과를 데이터프레임으로 변환하고, 상위 10개 선정하기\n",
    "items_count = pd.DataFrame(x)\n",
    "temp_item = items_count.head(10)\n",
    "temp_item"
   ]
  },
  {
   "cell_type": "code",
   "execution_count": 13,
   "metadata": {
    "ExecuteTime": {
     "end_time": "2023-09-17T06:15:03.344939Z",
     "start_time": "2023-09-17T06:15:02.513945600Z"
    }
   },
   "outputs": [
    {
     "data": {
      "image/png": "[encoded data removed]",
      "text/plain": [
       "<Figure size 720x432 with 1 Axes>"
      ]
     },
     "metadata": {},
     "output_type": "display_data"
    }
   ],
   "source": [
    "# 집계 결과 시각화하기\n",
    "plt.figure(figsize=(10, 6))\n",
    "sns.barplot(data=temp_item, x=temp_item.index, y='상품명')\n",
    "plt.xlabel('상품명')\n",
    "plt.ylabel('판매갯수')\n",
    "plt.xticks(rotation=45)\n",
    "plt.title('상품별 판매 갯수 상위10')\n",
    "plt.show()"
   ]
  },
  {
   "cell_type": "code",
   "execution_count": 14,
   "metadata": {
    "ExecuteTime": {
     "end_time": "2023-09-17T06:15:03.344939Z",
     "start_time": "2023-09-17T06:15:02.784066900Z"
    }
   },
   "outputs": [
    {
     "data": {
      "text/html": [
       "<div>\n",
       "<style scoped>\n",
       "    .dataframe tbody tr th:only-of-type {\n",
       "        vertical-align: middle;\n",
       "    }\n",
       "\n",
       "    .dataframe tbody tr th {\n",
       "        vertical-align: top;\n",
       "    }\n",
       "\n",
       "    .dataframe thead th {\n",
       "        text-align: right;\n",
       "    }\n",
       "</style>\n",
       "<table border=\"1\" class=\"dataframe\">\n",
       "  <thead>\n",
       "    <tr style=\"text-align: right;\">\n",
       "      <th></th>\n",
       "      <th>상품명</th>\n",
       "      <th>결제금액</th>\n",
       "    </tr>\n",
       "  </thead>\n",
       "  <tbody>\n",
       "    <tr>\n",
       "      <th>0</th>\n",
       "      <td>김치볶음밥</td>\n",
       "      <td>6004400</td>\n",
       "    </tr>\n",
       "    <tr>\n",
       "      <th>1</th>\n",
       "      <td>라면</td>\n",
       "      <td>2941500</td>\n",
       "    </tr>\n",
       "    <tr>\n",
       "      <th>2</th>\n",
       "      <td>치즈불고기볶음밥</td>\n",
       "      <td>2292600</td>\n",
       "    </tr>\n",
       "    <tr>\n",
       "      <th>3</th>\n",
       "      <td>짜장라면</td>\n",
       "      <td>2038500</td>\n",
       "    </tr>\n",
       "    <tr>\n",
       "      <th>4</th>\n",
       "      <td>낙지볶음밥</td>\n",
       "      <td>1710700</td>\n",
       "    </tr>\n",
       "    <tr>\n",
       "      <th>5</th>\n",
       "      <td>새우볶음밥</td>\n",
       "      <td>1539800</td>\n",
       "    </tr>\n",
       "    <tr>\n",
       "      <th>6</th>\n",
       "      <td>치즈감자튀김</td>\n",
       "      <td>1354200</td>\n",
       "    </tr>\n",
       "    <tr>\n",
       "      <th>7</th>\n",
       "      <td>감자튀김</td>\n",
       "      <td>1083800</td>\n",
       "    </tr>\n",
       "    <tr>\n",
       "      <th>8</th>\n",
       "      <td>아메리카노(ICE)</td>\n",
       "      <td>1058100</td>\n",
       "    </tr>\n",
       "    <tr>\n",
       "      <th>9</th>\n",
       "      <td>불닭볶음면</td>\n",
       "      <td>693000</td>\n",
       "    </tr>\n",
       "  </tbody>\n",
       "</table>\n",
       "</div>"
      ],
      "text/plain": [
       "          상품명     결제금액\n",
       "0       김치볶음밥  6004400\n",
       "1          라면  2941500\n",
       "2    치즈불고기볶음밥  2292600\n",
       "3        짜장라면  2038500\n",
       "4       낙지볶음밥  1710700\n",
       "5       새우볶음밥  1539800\n",
       "6      치즈감자튀김  1354200\n",
       "7        감자튀김  1083800\n",
       "8  아메리카노(ICE)  1058100\n",
       "9       불닭볶음면   693000"
      ]
     },
     "execution_count": 14,
     "metadata": {},
     "output_type": "execute_result"
    }
   ],
   "source": [
    "# temp_var의 payment열을 상품명을 기준으로 집계하기\n",
    "items_payment = temp_var.groupby('상품명')['결제금액'].sum().reset_index()\n",
    "# item_payment의 값을 내림차순으로 정렬하고 상위 10개 도출하기\n",
    "items_payment = items_payment.sort_values(by='결제금액', ascending=False).reset_index(drop=True)\n",
    "temp_payment = items_payment.head(10)\n",
    "temp_payment"
   ]
  },
  {
   "cell_type": "code",
   "execution_count": 15,
   "metadata": {
    "ExecuteTime": {
     "end_time": "2023-09-17T06:15:03.580578800Z",
     "start_time": "2023-09-17T06:15:02.802433600Z"
    }
   },
   "outputs": [
    {
     "data": {
      "image/png": "[encoded data removed]",
      "text/plain": [
       "<Figure size 720x432 with 1 Axes>"
      ]
     },
     "metadata": {},
     "output_type": "display_data"
    }
   ],
   "source": [
    "# 집계 결과 시각화하기\n",
    "plt.figure(figsize=(10, 6))\n",
    "sns.barplot(data=temp_payment, x='상품명', y='결제금액')\n",
    "plt.xlabel('상품명')\n",
    "plt.ylabel('결제금액')\n",
    "plt.xticks(rotation=45)\n",
    "plt.title('상품별 결제금액 상위10')\n",
    "plt.show()"
   ]
  },
  {
   "cell_type": "markdown",
   "metadata": {},
   "source": [
    "* 필수 문제3: 가장 많이 팔린 입장권 종류(entry_data를 이용합니다.)\n",
    "* 여러 입장권 종류를 판매 매출(판매 개수 x 금액) 순으로 정렬하고 상위 10개를 뽑아 결과를 시각화해봅니다.\n",
    "* 힌트: value_counts() 함수를 사용하세요."
   ]
  },
  {
   "cell_type": "code",
   "execution_count": 16,
   "metadata": {
    "ExecuteTime": {
     "end_time": "2023-09-17T06:15:03.580578800Z",
     "start_time": "2023-09-17T06:15:03.078101200Z"
    }
   },
   "outputs": [
    {
     "name": "stdout",
     "output_type": "stream",
     "text": [
      "<class 'pandas.core.frame.DataFrame'>\n",
      "RangeIndex: 22555 entries, 0 to 22554\n",
      "Data columns (total 8 columns):\n",
      " #   Column  Non-Null Count  Dtype \n",
      "---  ------  --------------  ----- \n",
      " 0   요금제명    22292 non-null  object\n",
      " 1   입실      22555 non-null  object\n",
      " 2   퇴실      22555 non-null  object\n",
      " 3   이용      22533 non-null  object\n",
      " 4   위치      22555 non-null  object\n",
      " 5   금액      22555 non-null  int64 \n",
      " 6   구분      22555 non-null  object\n",
      " 7   고객      22555 non-null  object\n",
      "dtypes: int64(1), object(7)\n",
      "memory usage: 1.4+ MB\n"
     ]
    }
   ],
   "source": [
    "# 활용할 데이터(entry_data)를 temp_var로 정의하기\n",
    "temp_var = entry_data\n",
    "temp_var.info()"
   ]
  },
  {
   "cell_type": "code",
   "execution_count": 17,
   "metadata": {
    "ExecuteTime": {
     "end_time": "2023-09-17T06:15:03.580578800Z",
     "start_time": "2023-09-17T06:15:03.078616500Z"
    }
   },
   "outputs": [
    {
     "data": {
      "text/html": [
       "<div>\n",
       "<style scoped>\n",
       "    .dataframe tbody tr th:only-of-type {\n",
       "        vertical-align: middle;\n",
       "    }\n",
       "\n",
       "    .dataframe tbody tr th {\n",
       "        vertical-align: top;\n",
       "    }\n",
       "\n",
       "    .dataframe thead th {\n",
       "        text-align: right;\n",
       "    }\n",
       "</style>\n",
       "<table border=\"1\" class=\"dataframe\">\n",
       "  <thead>\n",
       "    <tr style=\"text-align: right;\">\n",
       "      <th></th>\n",
       "      <th>요금제명</th>\n",
       "      <th>금액</th>\n",
       "    </tr>\n",
       "  </thead>\n",
       "  <tbody>\n",
       "    <tr>\n",
       "      <th>0</th>\n",
       "      <td>한국대생 입장권(종일권)</td>\n",
       "      <td>70037000</td>\n",
       "    </tr>\n",
       "    <tr>\n",
       "      <th>1</th>\n",
       "      <td>입장권(종일권)</td>\n",
       "      <td>23570500</td>\n",
       "    </tr>\n",
       "    <tr>\n",
       "      <th>2</th>\n",
       "      <td>심야-조조무제한(06시까지)</td>\n",
       "      <td>11600000</td>\n",
       "    </tr>\n",
       "    <tr>\n",
       "      <th>3</th>\n",
       "      <td>심야-조조무제한</td>\n",
       "      <td>6221000</td>\n",
       "    </tr>\n",
       "    <tr>\n",
       "      <th>4</th>\n",
       "      <td>한국대생 무제한 입장권</td>\n",
       "      <td>5207500</td>\n",
       "    </tr>\n",
       "    <tr>\n",
       "      <th>5</th>\n",
       "      <td>시간요금제(1시간)</td>\n",
       "      <td>2665500</td>\n",
       "    </tr>\n",
       "    <tr>\n",
       "      <th>6</th>\n",
       "      <td>시간요금제(3시간)</td>\n",
       "      <td>2042000</td>\n",
       "    </tr>\n",
       "    <tr>\n",
       "      <th>7</th>\n",
       "      <td>무제한 입장권</td>\n",
       "      <td>1568600</td>\n",
       "    </tr>\n",
       "    <tr>\n",
       "      <th>8</th>\n",
       "      <td>18시이후 무제한</td>\n",
       "      <td>1330500</td>\n",
       "    </tr>\n",
       "    <tr>\n",
       "      <th>9</th>\n",
       "      <td>조조무제한</td>\n",
       "      <td>693000</td>\n",
       "    </tr>\n",
       "  </tbody>\n",
       "</table>\n",
       "</div>"
      ],
      "text/plain": [
       "              요금제명        금액\n",
       "0    한국대생 입장권(종일권)  70037000\n",
       "1         입장권(종일권)  23570500\n",
       "2  심야-조조무제한(06시까지)  11600000\n",
       "3         심야-조조무제한   6221000\n",
       "4     한국대생 무제한 입장권   5207500\n",
       "5       시간요금제(1시간)   2665500\n",
       "6       시간요금제(3시간)   2042000\n",
       "7          무제한 입장권   1568600\n",
       "8        18시이후 무제한   1330500\n",
       "9            조조무제한    693000"
      ]
     },
     "execution_count": 17,
     "metadata": {},
     "output_type": "execute_result"
    }
   ],
   "source": [
    "# temp_var의 금액을 숫자형태로 변환하기\n",
    "temp_var['금액'] = temp_var['금액'].astype('int')\n",
    "# temp_var의 금액을 요금제명을 기준으로 집계하기\n",
    "tickets= temp_var.groupby('요금제명')['금액'].sum().reset_index()\n",
    "# tickets의 값을 내림차순으로 정렬하고 상위 10개 도출하기\n",
    "temp_tickets = tickets.sort_values(by='금액', ascending=False).reset_index(drop=True).head(10)\n",
    "temp_tickets"
   ]
  },
  {
   "cell_type": "code",
   "execution_count": 18,
   "metadata": {
    "ExecuteTime": {
     "end_time": "2023-09-17T06:15:04.004858200Z",
     "start_time": "2023-09-17T06:15:03.126034200Z"
    }
   },
   "outputs": [
    {
     "data": {
      "image/png": "[encoded data removed]",
      "text/plain": [
       "<Figure size 720x432 with 1 Axes>"
      ]
     },
     "metadata": {},
     "output_type": "display_data"
    }
   ],
   "source": [
    "# 집계 결과 시각화하기\n",
    "plt.figure(figsize=(10, 6))\n",
    "sns.barplot(data=temp_tickets, x='요금제명', y='금액')\n",
    "plt.xlabel('요금제명')\n",
    "plt.ylabel('금액')\n",
    "plt.xticks(rotation=45)\n",
    "plt.title('요금제당 금액 상위10')\n",
    "plt.show()"
   ]
  },
  {
   "cell_type": "markdown",
   "metadata": {},
   "source": [
    "## 임의 문제 정의단계\n",
    "##### 1. 시간대별 결제금액 총합\n",
    "* 날짜별이 아닌 시간대별 결제금액확인\n",
    "* 데이터 확인 결과 모든 결제는 선결제가 이루어지기 때문에 결제 시간은 고객 입점 시간임\n",
    "* 결제 시간을 기준으로 결제 금액 총합을 확인하여 어느 시간대에 고객이 가장많이 몰리는지 확인하기"
   ]
  },
  {
   "cell_type": "code",
   "execution_count": 19,
   "metadata": {
    "ExecuteTime": {
     "end_time": "2023-09-17T06:15:04.020482100Z",
     "start_time": "2023-09-17T06:15:03.392274700Z"
    }
   },
   "outputs": [
    {
     "name": "stdout",
     "output_type": "stream",
     "text": [
      "<class 'pandas.core.frame.DataFrame'>\n",
      "RangeIndex: 7105 entries, 0 to 7104\n",
      "Data columns (total 10 columns):\n",
      " #   Column  Non-Null Count  Dtype \n",
      "---  ------  --------------  ----- \n",
      " 0   결제일시    7105 non-null   object\n",
      " 1   판매위치    7105 non-null   object\n",
      " 2   상품명     7105 non-null   object\n",
      " 3   결제방식    7105 non-null   object\n",
      " 4   비고      7105 non-null   object\n",
      " 5   판매수량    7105 non-null   int64 \n",
      " 6   결제금액    7105 non-null   int64 \n",
      " 7   고객      6300 non-null   object\n",
      " 8   date    7105 non-null   object\n",
      " 9   time    7105 non-null   object\n",
      "dtypes: int64(2), object(8)\n",
      "memory usage: 555.2+ KB\n",
      "None\n"
     ]
    },
    {
     "data": {
      "text/html": [
       "<div>\n",
       "<style scoped>\n",
       "    .dataframe tbody tr th:only-of-type {\n",
       "        vertical-align: middle;\n",
       "    }\n",
       "\n",
       "    .dataframe tbody tr th {\n",
       "        vertical-align: top;\n",
       "    }\n",
       "\n",
       "    .dataframe thead th {\n",
       "        text-align: right;\n",
       "    }\n",
       "</style>\n",
       "<table border=\"1\" class=\"dataframe\">\n",
       "  <thead>\n",
       "    <tr style=\"text-align: right;\">\n",
       "      <th></th>\n",
       "      <th>결제일시</th>\n",
       "      <th>판매위치</th>\n",
       "      <th>상품명</th>\n",
       "      <th>결제방식</th>\n",
       "      <th>비고</th>\n",
       "      <th>판매수량</th>\n",
       "      <th>결제금액</th>\n",
       "      <th>고객</th>\n",
       "      <th>date</th>\n",
       "      <th>time</th>\n",
       "    </tr>\n",
       "  </thead>\n",
       "  <tbody>\n",
       "    <tr>\n",
       "      <th>0</th>\n",
       "      <td>2022-04-01 19:41</td>\n",
       "      <td>선불기1</td>\n",
       "      <td>치킨카라아케 6pc</td>\n",
       "      <td>신용카드</td>\n",
       "      <td>결제완료</td>\n",
       "      <td>1</td>\n",
       "      <td>4500</td>\n",
       "      <td>customer275507</td>\n",
       "      <td>2022-04</td>\n",
       "      <td>19</td>\n",
       "    </tr>\n",
       "    <tr>\n",
       "      <th>1</th>\n",
       "      <td>2022-04-01 19:41</td>\n",
       "      <td>선불기1</td>\n",
       "      <td>짜장라면(계란추가)</td>\n",
       "      <td>신용카드</td>\n",
       "      <td>결제완료</td>\n",
       "      <td>1</td>\n",
       "      <td>5500</td>\n",
       "      <td>customer275507</td>\n",
       "      <td>2022-04</td>\n",
       "      <td>19</td>\n",
       "    </tr>\n",
       "    <tr>\n",
       "      <th>2</th>\n",
       "      <td>2022-04-01 19:41</td>\n",
       "      <td>선불기1</td>\n",
       "      <td>라면</td>\n",
       "      <td>신용카드</td>\n",
       "      <td>결제완료</td>\n",
       "      <td>1</td>\n",
       "      <td>4000</td>\n",
       "      <td>customer275507</td>\n",
       "      <td>2022-04</td>\n",
       "      <td>19</td>\n",
       "    </tr>\n",
       "    <tr>\n",
       "      <th>3</th>\n",
       "      <td>2022-04-01 19:41</td>\n",
       "      <td>선불기1</td>\n",
       "      <td>비엔나소세지(토핑)</td>\n",
       "      <td>신용카드</td>\n",
       "      <td>결제완료</td>\n",
       "      <td>1</td>\n",
       "      <td>1000</td>\n",
       "      <td>customer275507</td>\n",
       "      <td>2022-04</td>\n",
       "      <td>19</td>\n",
       "    </tr>\n",
       "    <tr>\n",
       "      <th>4</th>\n",
       "      <td>2022-04-01 19:41</td>\n",
       "      <td>선불기1</td>\n",
       "      <td>라면(계란/치즈추가)</td>\n",
       "      <td>신용카드</td>\n",
       "      <td>결제완료</td>\n",
       "      <td>1</td>\n",
       "      <td>5000</td>\n",
       "      <td>customer275507</td>\n",
       "      <td>2022-04</td>\n",
       "      <td>19</td>\n",
       "    </tr>\n",
       "  </tbody>\n",
       "</table>\n",
       "</div>"
      ],
      "text/plain": [
       "               결제일시  판매위치          상품명  결제방식    비고  판매수량  결제금액  \\\n",
       "0  2022-04-01 19:41  선불기1   치킨카라아케 6pc  신용카드  결제완료     1  4500   \n",
       "1  2022-04-01 19:41  선불기1   짜장라면(계란추가)  신용카드  결제완료     1  5500   \n",
       "2  2022-04-01 19:41  선불기1           라면  신용카드  결제완료     1  4000   \n",
       "3  2022-04-01 19:41  선불기1   비엔나소세지(토핑)  신용카드  결제완료     1  1000   \n",
       "4  2022-04-01 19:41  선불기1  라면(계란/치즈추가)  신용카드  결제완료     1  5000   \n",
       "\n",
       "               고객     date time  \n",
       "0  customer275507  2022-04   19  \n",
       "1  customer275507  2022-04   19  \n",
       "2  customer275507  2022-04   19  \n",
       "3  customer275507  2022-04   19  \n",
       "4  customer275507  2022-04   19  "
      ]
     },
     "execution_count": 19,
     "metadata": {},
     "output_type": "execute_result"
    }
   ],
   "source": [
    "temp_var = sales_data\n",
    "# 원본데이터에서 \"결제시간\"부분만 따와서 새로운 칼럼 생성\n",
    "temp_var['time'] = sales_data[\"결제일시\"].apply(lambda x: x[11:13])\n",
    "print(temp_var.info())\n",
    "temp_var.head()"
   ]
  },
  {
   "cell_type": "code",
   "execution_count": 20,
   "metadata": {
    "ExecuteTime": {
     "end_time": "2023-09-17T06:15:04.020482100Z",
     "start_time": "2023-09-17T06:15:03.413342800Z"
    }
   },
   "outputs": [
    {
     "data": {
      "text/html": [
       "<div>\n",
       "<style scoped>\n",
       "    .dataframe tbody tr th:only-of-type {\n",
       "        vertical-align: middle;\n",
       "    }\n",
       "\n",
       "    .dataframe tbody tr th {\n",
       "        vertical-align: top;\n",
       "    }\n",
       "\n",
       "    .dataframe thead th {\n",
       "        text-align: right;\n",
       "    }\n",
       "</style>\n",
       "<table border=\"1\" class=\"dataframe\">\n",
       "  <thead>\n",
       "    <tr style=\"text-align: right;\">\n",
       "      <th></th>\n",
       "      <th>time</th>\n",
       "      <th>결제금액</th>\n",
       "    </tr>\n",
       "  </thead>\n",
       "  <tbody>\n",
       "    <tr>\n",
       "      <th>0</th>\n",
       "      <td>00</td>\n",
       "      <td>499500</td>\n",
       "    </tr>\n",
       "    <tr>\n",
       "      <th>1</th>\n",
       "      <td>07</td>\n",
       "      <td>16500</td>\n",
       "    </tr>\n",
       "    <tr>\n",
       "      <th>2</th>\n",
       "      <td>09</td>\n",
       "      <td>49500</td>\n",
       "    </tr>\n",
       "    <tr>\n",
       "      <th>3</th>\n",
       "      <td>10</td>\n",
       "      <td>1076600</td>\n",
       "    </tr>\n",
       "    <tr>\n",
       "      <th>4</th>\n",
       "      <td>11</td>\n",
       "      <td>1630800</td>\n",
       "    </tr>\n",
       "    <tr>\n",
       "      <th>5</th>\n",
       "      <td>12</td>\n",
       "      <td>2012600</td>\n",
       "    </tr>\n",
       "    <tr>\n",
       "      <th>6</th>\n",
       "      <td>13</td>\n",
       "      <td>1943300</td>\n",
       "    </tr>\n",
       "    <tr>\n",
       "      <th>7</th>\n",
       "      <td>14</td>\n",
       "      <td>1729200</td>\n",
       "    </tr>\n",
       "    <tr>\n",
       "      <th>8</th>\n",
       "      <td>15</td>\n",
       "      <td>2233700</td>\n",
       "    </tr>\n",
       "    <tr>\n",
       "      <th>9</th>\n",
       "      <td>16</td>\n",
       "      <td>2338700</td>\n",
       "    </tr>\n",
       "    <tr>\n",
       "      <th>10</th>\n",
       "      <td>17</td>\n",
       "      <td>2745500</td>\n",
       "    </tr>\n",
       "    <tr>\n",
       "      <th>11</th>\n",
       "      <td>18</td>\n",
       "      <td>3952500</td>\n",
       "    </tr>\n",
       "    <tr>\n",
       "      <th>12</th>\n",
       "      <td>19</td>\n",
       "      <td>3669300</td>\n",
       "    </tr>\n",
       "    <tr>\n",
       "      <th>13</th>\n",
       "      <td>20</td>\n",
       "      <td>2356700</td>\n",
       "    </tr>\n",
       "    <tr>\n",
       "      <th>14</th>\n",
       "      <td>21</td>\n",
       "      <td>1046900</td>\n",
       "    </tr>\n",
       "    <tr>\n",
       "      <th>15</th>\n",
       "      <td>22</td>\n",
       "      <td>593500</td>\n",
       "    </tr>\n",
       "    <tr>\n",
       "      <th>16</th>\n",
       "      <td>23</td>\n",
       "      <td>425000</td>\n",
       "    </tr>\n",
       "  </tbody>\n",
       "</table>\n",
       "</div>"
      ],
      "text/plain": [
       "   time     결제금액\n",
       "0    00   499500\n",
       "1    07    16500\n",
       "2    09    49500\n",
       "3    10  1076600\n",
       "4    11  1630800\n",
       "5    12  2012600\n",
       "6    13  1943300\n",
       "7    14  1729200\n",
       "8    15  2233700\n",
       "9    16  2338700\n",
       "10   17  2745500\n",
       "11   18  3952500\n",
       "12   19  3669300\n",
       "13   20  2356700\n",
       "14   21  1046900\n",
       "15   22   593500\n",
       "16   23   425000"
      ]
     },
     "execution_count": 20,
     "metadata": {},
     "output_type": "execute_result"
    }
   ],
   "source": [
    "# 위에 나와있듯 판매수량이 -1은 합계에 넣지않음\n",
    "temp_var = temp_var[temp_var['판매수량'] > -1]\n",
    "# time을 기준으로 결제금액 합계 도출\n",
    "time_sum = temp_var.groupby('time')['결제금액'].sum().reset_index()\n",
    "time_sum"
   ]
  },
  {
   "cell_type": "code",
   "execution_count": 21,
   "metadata": {
    "ExecuteTime": {
     "end_time": "2023-09-17T06:15:04.075503600Z",
     "start_time": "2023-09-17T06:15:03.439922800Z"
    }
   },
   "outputs": [
    {
     "data": {
      "image/png": "[encoded data removed]",
      "text/plain": [
       "<Figure size 720x432 with 1 Axes>"
      ]
     },
     "metadata": {},
     "output_type": "display_data"
    }
   ],
   "source": [
    "# 데이터 시각화\n",
    "plt.figure(figsize=(10, 6))\n",
    "sns.barplot(data=time_sum, x='time', y='결제금액')\n",
    "plt.xlabel('시간')\n",
    "plt.ylabel('결제금액')\n",
    "plt.xticks(rotation=45)\n",
    "plt.title('시간대별 결제합계')\n",
    "plt.show()"
   ]
  },
  {
   "cell_type": "markdown",
   "metadata": {},
   "source": [
    "* 시간대별 확인결과 저녁시간대에 고객이 가장 많이 몰리는것을 확인할 수 있음\n",
    "* 20시 부터 고객이 많이 줄기 때문에, 20시~24시에는 디저트 프로모션이나 음료 프로모션을 진행하여 해당 시간에 고객의 입점 수 증가 기대가능"
   ]
  },
  {
   "cell_type": "markdown",
   "metadata": {},
   "source": [
    "##### 2.분류별 매출 합계 도출\n",
    "* 현재 매출 금액중 가장 많은 부분을 담당하는 '종류'만을 구하기\n",
    "* 저녁 시간대에 많이 몰리는 것을 확인한 결과, 현재 카페에서 고객들이 선호하는 종류 파악 필요"
   ]
  },
  {
   "cell_type": "code",
   "execution_count": 22,
   "metadata": {
    "ExecuteTime": {
     "end_time": "2023-09-17T06:15:04.075503600Z",
     "start_time": "2023-09-17T06:15:03.775830Z"
    }
   },
   "outputs": [
    {
     "name": "stdout",
     "output_type": "stream",
     "text": [
      "Index(['결제일시', '판매위치', '상품명', '결제방식', '비고', '판매수량', '결제금액', '고객', 'date',\n",
      "       'time', '구분', '분류', '판매금액'],\n",
      "      dtype='object')\n"
     ]
    },
    {
     "data": {
      "text/html": [
       "<div>\n",
       "<style scoped>\n",
       "    .dataframe tbody tr th:only-of-type {\n",
       "        vertical-align: middle;\n",
       "    }\n",
       "\n",
       "    .dataframe tbody tr th {\n",
       "        vertical-align: top;\n",
       "    }\n",
       "\n",
       "    .dataframe thead th {\n",
       "        text-align: right;\n",
       "    }\n",
       "</style>\n",
       "<table border=\"1\" class=\"dataframe\">\n",
       "  <thead>\n",
       "    <tr style=\"text-align: right;\">\n",
       "      <th></th>\n",
       "      <th>결제일시</th>\n",
       "      <th>판매위치</th>\n",
       "      <th>상품명</th>\n",
       "      <th>결제방식</th>\n",
       "      <th>비고</th>\n",
       "      <th>판매수량</th>\n",
       "      <th>결제금액</th>\n",
       "      <th>고객</th>\n",
       "      <th>date</th>\n",
       "      <th>time</th>\n",
       "      <th>구분</th>\n",
       "      <th>분류</th>\n",
       "      <th>판매금액</th>\n",
       "    </tr>\n",
       "  </thead>\n",
       "  <tbody>\n",
       "    <tr>\n",
       "      <th>0</th>\n",
       "      <td>2022-04-01 19:41</td>\n",
       "      <td>선불기1</td>\n",
       "      <td>치킨카라아케 6pc</td>\n",
       "      <td>신용카드</td>\n",
       "      <td>결제완료</td>\n",
       "      <td>1</td>\n",
       "      <td>4500</td>\n",
       "      <td>customer275507</td>\n",
       "      <td>2022-04</td>\n",
       "      <td>19</td>\n",
       "      <td>68</td>\n",
       "      <td>음식</td>\n",
       "      <td>4,500원</td>\n",
       "    </tr>\n",
       "    <tr>\n",
       "      <th>1</th>\n",
       "      <td>2022-03-31 14:51</td>\n",
       "      <td>선불기1</td>\n",
       "      <td>치킨카라아케 6pc</td>\n",
       "      <td>신용카드</td>\n",
       "      <td>결제완료</td>\n",
       "      <td>1</td>\n",
       "      <td>4500</td>\n",
       "      <td>customer751113</td>\n",
       "      <td>2022-03</td>\n",
       "      <td>14</td>\n",
       "      <td>68</td>\n",
       "      <td>음식</td>\n",
       "      <td>4,500원</td>\n",
       "    </tr>\n",
       "    <tr>\n",
       "      <th>2</th>\n",
       "      <td>2022-03-24 21:35</td>\n",
       "      <td>선불기1</td>\n",
       "      <td>치킨카라아케 6pc</td>\n",
       "      <td>신용카드</td>\n",
       "      <td>결제완료</td>\n",
       "      <td>1</td>\n",
       "      <td>4500</td>\n",
       "      <td>customer901892</td>\n",
       "      <td>2022-03</td>\n",
       "      <td>21</td>\n",
       "      <td>68</td>\n",
       "      <td>음식</td>\n",
       "      <td>4,500원</td>\n",
       "    </tr>\n",
       "    <tr>\n",
       "      <th>3</th>\n",
       "      <td>2022-03-12 17:42</td>\n",
       "      <td>선불기1</td>\n",
       "      <td>치킨카라아케 6pc</td>\n",
       "      <td>신용카드</td>\n",
       "      <td>결제완료</td>\n",
       "      <td>1</td>\n",
       "      <td>4500</td>\n",
       "      <td>customer339975</td>\n",
       "      <td>2022-03</td>\n",
       "      <td>17</td>\n",
       "      <td>68</td>\n",
       "      <td>음식</td>\n",
       "      <td>4,500원</td>\n",
       "    </tr>\n",
       "    <tr>\n",
       "      <th>4</th>\n",
       "      <td>2022-03-05 19:56</td>\n",
       "      <td>선불기1</td>\n",
       "      <td>치킨카라아케 6pc</td>\n",
       "      <td>신용카드</td>\n",
       "      <td>결제완료</td>\n",
       "      <td>1</td>\n",
       "      <td>4500</td>\n",
       "      <td>customer301352</td>\n",
       "      <td>2022-03</td>\n",
       "      <td>19</td>\n",
       "      <td>68</td>\n",
       "      <td>음식</td>\n",
       "      <td>4,500원</td>\n",
       "    </tr>\n",
       "  </tbody>\n",
       "</table>\n",
       "</div>"
      ],
      "text/plain": [
       "               결제일시  판매위치         상품명  결제방식    비고  판매수량  결제금액              고객  \\\n",
       "0  2022-04-01 19:41  선불기1  치킨카라아케 6pc  신용카드  결제완료     1  4500  customer275507   \n",
       "1  2022-03-31 14:51  선불기1  치킨카라아케 6pc  신용카드  결제완료     1  4500  customer751113   \n",
       "2  2022-03-24 21:35  선불기1  치킨카라아케 6pc  신용카드  결제완료     1  4500  customer901892   \n",
       "3  2022-03-12 17:42  선불기1  치킨카라아케 6pc  신용카드  결제완료     1  4500  customer339975   \n",
       "4  2022-03-05 19:56  선불기1  치킨카라아케 6pc  신용카드  결제완료     1  4500  customer301352   \n",
       "\n",
       "      date time  구분  분류    판매금액  \n",
       "0  2022-04   19  68  음식  4,500원  \n",
       "1  2022-03   14  68  음식  4,500원  \n",
       "2  2022-03   21  68  음식  4,500원  \n",
       "3  2022-03   17  68  음식  4,500원  \n",
       "4  2022-03   19  68  음식  4,500원  "
      ]
     },
     "execution_count": 22,
     "metadata": {},
     "output_type": "execute_result"
    }
   ],
   "source": [
    "temp_data = sales_data[sales_data[\"판매수량\"] > -1]\n",
    "# 상풍명을 기준으로 두개의 데이터를 합치면, 상품명에따른 분류가 자동적으로 생성됨\n",
    "temp_data = pd.merge(temp_data, item_data, on=\"상품명\")\n",
    "# 판매금액 과 결제금액 의 차이를 확실하게 구분해야 함.\n",
    "print(temp_data.columns)\n",
    "temp_data.head()"
   ]
  },
  {
   "cell_type": "code",
   "execution_count": 23,
   "metadata": {
    "ExecuteTime": {
     "end_time": "2023-09-17T06:15:04.075503600Z",
     "start_time": "2023-09-17T06:15:03.805671900Z"
    }
   },
   "outputs": [
    {
     "data": {
      "text/html": [
       "<div>\n",
       "<style scoped>\n",
       "    .dataframe tbody tr th:only-of-type {\n",
       "        vertical-align: middle;\n",
       "    }\n",
       "\n",
       "    .dataframe tbody tr th {\n",
       "        vertical-align: top;\n",
       "    }\n",
       "\n",
       "    .dataframe thead th {\n",
       "        text-align: right;\n",
       "    }\n",
       "</style>\n",
       "<table border=\"1\" class=\"dataframe\">\n",
       "  <thead>\n",
       "    <tr style=\"text-align: right;\">\n",
       "      <th></th>\n",
       "      <th>분류</th>\n",
       "      <th>결제금액</th>\n",
       "    </tr>\n",
       "  </thead>\n",
       "  <tbody>\n",
       "    <tr>\n",
       "      <th>0</th>\n",
       "      <td>음식</td>\n",
       "      <td>88620600</td>\n",
       "    </tr>\n",
       "    <tr>\n",
       "      <th>1</th>\n",
       "      <td>커피</td>\n",
       "      <td>8366000</td>\n",
       "    </tr>\n",
       "    <tr>\n",
       "      <th>2</th>\n",
       "      <td>차가운음료(커피외)</td>\n",
       "      <td>4656500</td>\n",
       "    </tr>\n",
       "    <tr>\n",
       "      <th>3</th>\n",
       "      <td>디저트</td>\n",
       "      <td>2394500</td>\n",
       "    </tr>\n",
       "    <tr>\n",
       "      <th>4</th>\n",
       "      <td>스무디&amp;쉐이크</td>\n",
       "      <td>1574400</td>\n",
       "    </tr>\n",
       "    <tr>\n",
       "      <th>5</th>\n",
       "      <td>따뜻한음료(커피외)</td>\n",
       "      <td>485900</td>\n",
       "    </tr>\n",
       "    <tr>\n",
       "      <th>6</th>\n",
       "      <td>포장</td>\n",
       "      <td>34000</td>\n",
       "    </tr>\n",
       "    <tr>\n",
       "      <th>7</th>\n",
       "      <td>게임&amp;TV</td>\n",
       "      <td>3000</td>\n",
       "    </tr>\n",
       "  </tbody>\n",
       "</table>\n",
       "</div>"
      ],
      "text/plain": [
       "           분류      결제금액\n",
       "0          음식  88620600\n",
       "1          커피   8366000\n",
       "2  차가운음료(커피외)   4656500\n",
       "3         디저트   2394500\n",
       "4     스무디&쉐이크   1574400\n",
       "5  따뜻한음료(커피외)    485900\n",
       "6          포장     34000\n",
       "7       게임&TV      3000"
      ]
     },
     "execution_count": 23,
     "metadata": {},
     "output_type": "execute_result"
    }
   ],
   "source": [
    "# 위의 데이터에서 분류를 기준으로 결제금액 합계 구하기\n",
    "category = temp_data.groupby('분류')['결제금액'].sum().reset_index()\n",
    "category = category.sort_values(by='결제금액', ascending=False).reset_index(drop=True)\n",
    "category"
   ]
  },
  {
   "cell_type": "code",
   "execution_count": 24,
   "metadata": {
    "ExecuteTime": {
     "end_time": "2023-09-17T06:15:04.492288Z",
     "start_time": "2023-09-17T06:15:03.823461500Z"
    }
   },
   "outputs": [
    {
     "data": {
      "image/png": "[encoded data removed]",
      "text/plain": [
       "<Figure size 720x432 with 1 Axes>"
      ]
     },
     "metadata": {},
     "output_type": "display_data"
    }
   ],
   "source": [
    "# 데이터 시각화\n",
    "plt.figure(figsize=(10, 6))\n",
    "sns.barplot(data=category, x='분류', y='결제금액')\n",
    "plt.xlabel('분류')\n",
    "plt.ylabel('결제금액')\n",
    "plt.xticks(rotation=45)\n",
    "plt.title('분류별 총 판매금액')\n",
    "plt.show()"
   ]
  },
  {
   "cell_type": "markdown",
   "metadata": {},
   "source": [
    "* 시각화로 확인해보니 음식종류가 매출의 90% 정도\n",
    "* 카페와 맞지 않는 카테고리가 있고, 해당 카테고리의 매출금액은 있으나 없으나 수준\n",
    "* 매출의 실질적인 향상을 위해서는 음료 부분에서 개선의 필요함"
   ]
  },
  {
   "cell_type": "markdown",
   "metadata": {},
   "source": [
    "##### 3.카페의 특정종류만 골라서 시간대별 매출 확인하기\n",
    "* 세부적인 매출 파악을 위해 매출의 대부분을 담당하는 음식중류를 제외\n",
    "* 의미가 없어 보이는 분류를 제외하여 실제 매출상승의 기대가 있는 분류만 선정해서 시간대별 파악\n",
    "* 20시이후에 매출이 줄어듦으로 보아 20시 이후의 인기 품목이 무엇인지 파악하기 위함"
   ]
  },
  {
   "cell_type": "code",
   "execution_count": 25,
   "metadata": {
    "ExecuteTime": {
     "end_time": "2023-09-17T06:15:04.523529Z",
     "start_time": "2023-09-17T06:15:04.052230700Z"
    }
   },
   "outputs": [
    {
     "data": {
      "text/html": [
       "<div>\n",
       "<style scoped>\n",
       "    .dataframe tbody tr th:only-of-type {\n",
       "        vertical-align: middle;\n",
       "    }\n",
       "\n",
       "    .dataframe tbody tr th {\n",
       "        vertical-align: top;\n",
       "    }\n",
       "\n",
       "    .dataframe thead th {\n",
       "        text-align: right;\n",
       "    }\n",
       "</style>\n",
       "<table border=\"1\" class=\"dataframe\">\n",
       "  <thead>\n",
       "    <tr style=\"text-align: right;\">\n",
       "      <th></th>\n",
       "      <th>결제일시</th>\n",
       "      <th>판매위치</th>\n",
       "      <th>상품명</th>\n",
       "      <th>결제방식</th>\n",
       "      <th>비고</th>\n",
       "      <th>판매수량</th>\n",
       "      <th>결제금액</th>\n",
       "      <th>고객</th>\n",
       "      <th>date</th>\n",
       "      <th>time</th>\n",
       "      <th>구분</th>\n",
       "      <th>분류</th>\n",
       "      <th>판매금액</th>\n",
       "    </tr>\n",
       "  </thead>\n",
       "  <tbody>\n",
       "    <tr>\n",
       "      <th>3070</th>\n",
       "      <td>2022-04-01 15:19</td>\n",
       "      <td>선불기1</td>\n",
       "      <td>아이스티</td>\n",
       "      <td>신용카드</td>\n",
       "      <td>결제완료</td>\n",
       "      <td>1</td>\n",
       "      <td>3900</td>\n",
       "      <td>customer630809</td>\n",
       "      <td>2022-04</td>\n",
       "      <td>15</td>\n",
       "      <td>109</td>\n",
       "      <td>차가운음료(커피외)</td>\n",
       "      <td>3,500원</td>\n",
       "    </tr>\n",
       "    <tr>\n",
       "      <th>3071</th>\n",
       "      <td>2022-04-01 15:19</td>\n",
       "      <td>선불기1</td>\n",
       "      <td>아이스티</td>\n",
       "      <td>신용카드</td>\n",
       "      <td>결제완료</td>\n",
       "      <td>1</td>\n",
       "      <td>3900</td>\n",
       "      <td>customer630809</td>\n",
       "      <td>2022-04</td>\n",
       "      <td>15</td>\n",
       "      <td>128</td>\n",
       "      <td>차가운음료(커피외)</td>\n",
       "      <td>1,000원</td>\n",
       "    </tr>\n",
       "    <tr>\n",
       "      <th>3072</th>\n",
       "      <td>2022-04-01 15:19</td>\n",
       "      <td>선불기1</td>\n",
       "      <td>아이스티</td>\n",
       "      <td>신용카드</td>\n",
       "      <td>결제완료</td>\n",
       "      <td>1</td>\n",
       "      <td>3900</td>\n",
       "      <td>customer630809</td>\n",
       "      <td>2022-04</td>\n",
       "      <td>15</td>\n",
       "      <td>136</td>\n",
       "      <td>차가운음료(커피외)</td>\n",
       "      <td>3,900원</td>\n",
       "    </tr>\n",
       "    <tr>\n",
       "      <th>3073</th>\n",
       "      <td>2022-03-26 17:25</td>\n",
       "      <td>선불기1</td>\n",
       "      <td>아이스티</td>\n",
       "      <td>신용카드</td>\n",
       "      <td>결제완료</td>\n",
       "      <td>1</td>\n",
       "      <td>3900</td>\n",
       "      <td>customer994026</td>\n",
       "      <td>2022-03</td>\n",
       "      <td>17</td>\n",
       "      <td>109</td>\n",
       "      <td>차가운음료(커피외)</td>\n",
       "      <td>3,500원</td>\n",
       "    </tr>\n",
       "    <tr>\n",
       "      <th>3074</th>\n",
       "      <td>2022-03-26 17:25</td>\n",
       "      <td>선불기1</td>\n",
       "      <td>아이스티</td>\n",
       "      <td>신용카드</td>\n",
       "      <td>결제완료</td>\n",
       "      <td>1</td>\n",
       "      <td>3900</td>\n",
       "      <td>customer994026</td>\n",
       "      <td>2022-03</td>\n",
       "      <td>17</td>\n",
       "      <td>128</td>\n",
       "      <td>차가운음료(커피외)</td>\n",
       "      <td>1,000원</td>\n",
       "    </tr>\n",
       "    <tr>\n",
       "      <th>...</th>\n",
       "      <td>...</td>\n",
       "      <td>...</td>\n",
       "      <td>...</td>\n",
       "      <td>...</td>\n",
       "      <td>...</td>\n",
       "      <td>...</td>\n",
       "      <td>...</td>\n",
       "      <td>...</td>\n",
       "      <td>...</td>\n",
       "      <td>...</td>\n",
       "      <td>...</td>\n",
       "      <td>...</td>\n",
       "      <td>...</td>\n",
       "    </tr>\n",
       "    <tr>\n",
       "      <th>23614</th>\n",
       "      <td>2021-07-01 17:16</td>\n",
       "      <td>선불기1</td>\n",
       "      <td>카라멜마끼아또(ICE)</td>\n",
       "      <td>신용카드</td>\n",
       "      <td>결제완료</td>\n",
       "      <td>1</td>\n",
       "      <td>5000</td>\n",
       "      <td>customer536579</td>\n",
       "      <td>2021-07</td>\n",
       "      <td>17</td>\n",
       "      <td>159</td>\n",
       "      <td>커피</td>\n",
       "      <td>5,000원</td>\n",
       "    </tr>\n",
       "    <tr>\n",
       "      <th>23615</th>\n",
       "      <td>2021-07-01 16:36</td>\n",
       "      <td>선불기1</td>\n",
       "      <td>카라멜마끼아또(ICE)</td>\n",
       "      <td>신용카드</td>\n",
       "      <td>결제완료</td>\n",
       "      <td>1</td>\n",
       "      <td>5000</td>\n",
       "      <td>customer917331</td>\n",
       "      <td>2021-07</td>\n",
       "      <td>16</td>\n",
       "      <td>159</td>\n",
       "      <td>커피</td>\n",
       "      <td>5,000원</td>\n",
       "    </tr>\n",
       "    <tr>\n",
       "      <th>23616</th>\n",
       "      <td>2021-06-05 20:36</td>\n",
       "      <td>선불기1</td>\n",
       "      <td>카라멜마끼아또(ICE)</td>\n",
       "      <td>신용카드</td>\n",
       "      <td>결제완료</td>\n",
       "      <td>1</td>\n",
       "      <td>5000</td>\n",
       "      <td>customer910882</td>\n",
       "      <td>2021-06</td>\n",
       "      <td>20</td>\n",
       "      <td>159</td>\n",
       "      <td>커피</td>\n",
       "      <td>5,000원</td>\n",
       "    </tr>\n",
       "    <tr>\n",
       "      <th>23617</th>\n",
       "      <td>2021-04-17 13:07</td>\n",
       "      <td>선불기1</td>\n",
       "      <td>카라멜마끼아또(ICE)</td>\n",
       "      <td>신용카드</td>\n",
       "      <td>결제완료</td>\n",
       "      <td>1</td>\n",
       "      <td>5000</td>\n",
       "      <td>customer742878</td>\n",
       "      <td>2021-04</td>\n",
       "      <td>13</td>\n",
       "      <td>159</td>\n",
       "      <td>커피</td>\n",
       "      <td>5,000원</td>\n",
       "    </tr>\n",
       "    <tr>\n",
       "      <th>23618</th>\n",
       "      <td>2021-03-11 12:49</td>\n",
       "      <td>선불기2</td>\n",
       "      <td>카라멜마끼아또(ICE)</td>\n",
       "      <td>신용카드</td>\n",
       "      <td>결제완료</td>\n",
       "      <td>1</td>\n",
       "      <td>5000</td>\n",
       "      <td>customer520863</td>\n",
       "      <td>2021-03</td>\n",
       "      <td>12</td>\n",
       "      <td>159</td>\n",
       "      <td>커피</td>\n",
       "      <td>5,000원</td>\n",
       "    </tr>\n",
       "  </tbody>\n",
       "</table>\n",
       "<p>4706 rows × 13 columns</p>\n",
       "</div>"
      ],
      "text/plain": [
       "                   결제일시  판매위치           상품명  결제방식    비고  판매수량  결제금액  \\\n",
       "3070   2022-04-01 15:19  선불기1          아이스티  신용카드  결제완료     1  3900   \n",
       "3071   2022-04-01 15:19  선불기1          아이스티  신용카드  결제완료     1  3900   \n",
       "3072   2022-04-01 15:19  선불기1          아이스티  신용카드  결제완료     1  3900   \n",
       "3073   2022-03-26 17:25  선불기1          아이스티  신용카드  결제완료     1  3900   \n",
       "3074   2022-03-26 17:25  선불기1          아이스티  신용카드  결제완료     1  3900   \n",
       "...                 ...   ...           ...   ...   ...   ...   ...   \n",
       "23614  2021-07-01 17:16  선불기1  카라멜마끼아또(ICE)  신용카드  결제완료     1  5000   \n",
       "23615  2021-07-01 16:36  선불기1  카라멜마끼아또(ICE)  신용카드  결제완료     1  5000   \n",
       "23616  2021-06-05 20:36  선불기1  카라멜마끼아또(ICE)  신용카드  결제완료     1  5000   \n",
       "23617  2021-04-17 13:07  선불기1  카라멜마끼아또(ICE)  신용카드  결제완료     1  5000   \n",
       "23618  2021-03-11 12:49  선불기2  카라멜마끼아또(ICE)  신용카드  결제완료     1  5000   \n",
       "\n",
       "                   고객     date time   구분          분류    판매금액  \n",
       "3070   customer630809  2022-04   15  109  차가운음료(커피외)  3,500원  \n",
       "3071   customer630809  2022-04   15  128  차가운음료(커피외)  1,000원  \n",
       "3072   customer630809  2022-04   15  136  차가운음료(커피외)  3,900원  \n",
       "3073   customer994026  2022-03   17  109  차가운음료(커피외)  3,500원  \n",
       "3074   customer994026  2022-03   17  128  차가운음료(커피외)  1,000원  \n",
       "...               ...      ...  ...  ...         ...     ...  \n",
       "23614  customer536579  2021-07   17  159          커피  5,000원  \n",
       "23615  customer917331  2021-07   16  159          커피  5,000원  \n",
       "23616  customer910882  2021-06   20  159          커피  5,000원  \n",
       "23617  customer742878  2021-04   13  159          커피  5,000원  \n",
       "23618  customer520863  2021-03   12  159          커피  5,000원  \n",
       "\n",
       "[4706 rows x 13 columns]"
      ]
     },
     "execution_count": 25,
     "metadata": {},
     "output_type": "execute_result"
    }
   ],
   "source": [
    "# 시각화 하였을때 분석에 방해되는 종류들 제외\n",
    "none_meal = temp_data[temp_data[\"분류\"] != '음식']\n",
    "none_meal = none_meal[none_meal[\"분류\"] != '포장']\n",
    "none_meal = none_meal[none_meal[\"분류\"] != '게임&TV']\n",
    "none_meal"
   ]
  },
  {
   "cell_type": "code",
   "execution_count": 26,
   "metadata": {
    "ExecuteTime": {
     "end_time": "2023-09-17T06:15:04.586837400Z",
     "start_time": "2023-09-17T06:15:04.075503600Z"
    }
   },
   "outputs": [
    {
     "data": {
      "text/html": [
       "<div>\n",
       "<style scoped>\n",
       "    .dataframe tbody tr th:only-of-type {\n",
       "        vertical-align: middle;\n",
       "    }\n",
       "\n",
       "    .dataframe tbody tr th {\n",
       "        vertical-align: top;\n",
       "    }\n",
       "\n",
       "    .dataframe thead th {\n",
       "        text-align: right;\n",
       "    }\n",
       "</style>\n",
       "<table border=\"1\" class=\"dataframe\">\n",
       "  <thead>\n",
       "    <tr style=\"text-align: right;\">\n",
       "      <th></th>\n",
       "      <th>time</th>\n",
       "      <th>분류</th>\n",
       "      <th>결제금액</th>\n",
       "    </tr>\n",
       "  </thead>\n",
       "  <tbody>\n",
       "    <tr>\n",
       "      <th>0</th>\n",
       "      <td>00</td>\n",
       "      <td>디저트</td>\n",
       "      <td>70000</td>\n",
       "    </tr>\n",
       "    <tr>\n",
       "      <th>1</th>\n",
       "      <td>00</td>\n",
       "      <td>따뜻한음료(커피외)</td>\n",
       "      <td>8000</td>\n",
       "    </tr>\n",
       "    <tr>\n",
       "      <th>2</th>\n",
       "      <td>00</td>\n",
       "      <td>스무디&amp;쉐이크</td>\n",
       "      <td>11000</td>\n",
       "    </tr>\n",
       "    <tr>\n",
       "      <th>3</th>\n",
       "      <td>00</td>\n",
       "      <td>차가운음료(커피외)</td>\n",
       "      <td>8500</td>\n",
       "    </tr>\n",
       "    <tr>\n",
       "      <th>4</th>\n",
       "      <td>00</td>\n",
       "      <td>커피</td>\n",
       "      <td>285000</td>\n",
       "    </tr>\n",
       "  </tbody>\n",
       "</table>\n",
       "</div>"
      ],
      "text/plain": [
       "  time          분류    결제금액\n",
       "0   00         디저트   70000\n",
       "1   00  따뜻한음료(커피외)    8000\n",
       "2   00     스무디&쉐이크   11000\n",
       "3   00  차가운음료(커피외)    8500\n",
       "4   00          커피  285000"
      ]
     },
     "execution_count": 26,
     "metadata": {},
     "output_type": "execute_result"
    }
   ],
   "source": [
    "# 시간과 분류별을 기준으로 결제금액 합계 구하기\n",
    "drink = none_meal.groupby(['time','분류'])['결제금액'].sum().reset_index()\n",
    "drink.head()"
   ]
  },
  {
   "cell_type": "code",
   "execution_count": 27,
   "metadata": {
    "ExecuteTime": {
     "end_time": "2023-09-17T06:15:05.192572800Z",
     "start_time": "2023-09-17T06:15:04.099910300Z"
    }
   },
   "outputs": [
    {
     "data": {
      "image/png": "[encoded data removed]",
      "text/plain": [
       "<Figure size 1080x432 with 1 Axes>"
      ]
     },
     "metadata": {},
     "output_type": "display_data"
    }
   ],
   "source": [
    "# 데이터 시각화\n",
    "plt.figure(figsize=(15, 6))\n",
    "sns.barplot(data=drink, x='time', y='결제금액', hue='분류')\n",
    "plt.xlabel('시간')\n",
    "plt.ylabel('판매금액')\n",
    "plt.title('분류별 시간대 판매금액')\n",
    "plt.show()"
   ]
  },
  {
   "cell_type": "markdown",
   "metadata": {},
   "source": [
    "* 16시에 커피의 판매량이 줄고 디저트의 판매량이 비교적 올라간것으로 보아 식사 시간대가아닌때에는 디저트의 수요가 확실히 있음\n",
    "* 20시 이후로는 커피의 판매량이 현저히 줄어들지만 디저트를 포함한 다른 품목들은 줄지 않음"
   ]
  },
  {
   "cell_type": "markdown",
   "metadata": {},
   "source": [
    "##### 4.세부메뉴 조정\n",
    "* 이전 분석에서 확인했듯이 필요없어 보이는 판매품목이 존재함\n",
    "* 왜 필요없는지에 대한 증거로 시각화를 제시\n",
    "* 디저트종류에서 인기있는 메뉴를 확인 후 해당 종류의 디저트 메뉴를 추가로 구상할 필요가 있어보임"
   ]
  },
  {
   "cell_type": "code",
   "execution_count": 28,
   "metadata": {
    "ExecuteTime": {
     "end_time": "2023-09-17T06:15:05.192572800Z",
     "start_time": "2023-09-17T06:15:04.837285Z"
    }
   },
   "outputs": [
    {
     "data": {
      "text/html": [
       "<div>\n",
       "<style scoped>\n",
       "    .dataframe tbody tr th:only-of-type {\n",
       "        vertical-align: middle;\n",
       "    }\n",
       "\n",
       "    .dataframe tbody tr th {\n",
       "        vertical-align: top;\n",
       "    }\n",
       "\n",
       "    .dataframe thead th {\n",
       "        text-align: right;\n",
       "    }\n",
       "</style>\n",
       "<table border=\"1\" class=\"dataframe\">\n",
       "  <thead>\n",
       "    <tr style=\"text-align: right;\">\n",
       "      <th></th>\n",
       "      <th>분류</th>\n",
       "      <th>결제금액</th>\n",
       "    </tr>\n",
       "  </thead>\n",
       "  <tbody>\n",
       "    <tr>\n",
       "      <th>1</th>\n",
       "      <td>커피</td>\n",
       "      <td>8366000</td>\n",
       "    </tr>\n",
       "    <tr>\n",
       "      <th>2</th>\n",
       "      <td>차가운음료(커피외)</td>\n",
       "      <td>4656500</td>\n",
       "    </tr>\n",
       "    <tr>\n",
       "      <th>3</th>\n",
       "      <td>디저트</td>\n",
       "      <td>2394500</td>\n",
       "    </tr>\n",
       "    <tr>\n",
       "      <th>4</th>\n",
       "      <td>스무디&amp;쉐이크</td>\n",
       "      <td>1574400</td>\n",
       "    </tr>\n",
       "    <tr>\n",
       "      <th>5</th>\n",
       "      <td>따뜻한음료(커피외)</td>\n",
       "      <td>485900</td>\n",
       "    </tr>\n",
       "    <tr>\n",
       "      <th>6</th>\n",
       "      <td>포장</td>\n",
       "      <td>34000</td>\n",
       "    </tr>\n",
       "    <tr>\n",
       "      <th>7</th>\n",
       "      <td>게임&amp;TV</td>\n",
       "      <td>3000</td>\n",
       "    </tr>\n",
       "  </tbody>\n",
       "</table>\n",
       "</div>"
      ],
      "text/plain": [
       "           분류     결제금액\n",
       "1          커피  8366000\n",
       "2  차가운음료(커피외)  4656500\n",
       "3         디저트  2394500\n",
       "4     스무디&쉐이크  1574400\n",
       "5  따뜻한음료(커피외)   485900\n",
       "6          포장    34000\n",
       "7       게임&TV     3000"
      ]
     },
     "execution_count": 28,
     "metadata": {},
     "output_type": "execute_result"
    }
   ],
   "source": [
    "# 분류별 매출 합계 도출\n",
    "category.drop(0,axis=0)"
   ]
  },
  {
   "cell_type": "code",
   "execution_count": 29,
   "metadata": {
    "ExecuteTime": {
     "end_time": "2023-09-17T06:15:05.343802900Z",
     "start_time": "2023-09-17T06:15:04.853361Z"
    }
   },
   "outputs": [
    {
     "data": {
      "image/png": "[encoded data removed]",
      "text/plain": [
       "<Figure size 720x432 with 1 Axes>"
      ]
     },
     "metadata": {},
     "output_type": "display_data"
    }
   ],
   "source": [
    "# 데이터 시각화\n",
    "plt.figure(figsize=(10, 6))\n",
    "sns.barplot(data=category.drop(0,axis=0), x='분류', y='결제금액')\n",
    "plt.xlabel('분류')\n",
    "plt.ylabel('판매금액')\n",
    "plt.title('분류별 판매금액')\n",
    "plt.xticks(rotation=45)\n",
    "plt.show()"
   ]
  },
  {
   "cell_type": "markdown",
   "metadata": {},
   "source": [
    "* 시각화 확인 결과 판매품목에도 오류가 존재한다고 볼 수 있음"
   ]
  },
  {
   "cell_type": "code",
   "execution_count": 30,
   "metadata": {
    "ExecuteTime": {
     "end_time": "2023-09-17T06:19:49.284569100Z",
     "start_time": "2023-09-17T06:19:49.218006500Z"
    }
   },
   "outputs": [
    {
     "data": {
      "text/html": [
       "<div>\n",
       "<style scoped>\n",
       "    .dataframe tbody tr th:only-of-type {\n",
       "        vertical-align: middle;\n",
       "    }\n",
       "\n",
       "    .dataframe tbody tr th {\n",
       "        vertical-align: top;\n",
       "    }\n",
       "\n",
       "    .dataframe thead th {\n",
       "        text-align: right;\n",
       "    }\n",
       "</style>\n",
       "<table border=\"1\" class=\"dataframe\">\n",
       "  <thead>\n",
       "    <tr style=\"text-align: right;\">\n",
       "      <th></th>\n",
       "      <th>구분</th>\n",
       "      <th>분류</th>\n",
       "      <th>상품명</th>\n",
       "      <th>판매금액</th>\n",
       "    </tr>\n",
       "  </thead>\n",
       "  <tbody>\n",
       "    <tr>\n",
       "      <th>0</th>\n",
       "      <td>1</td>\n",
       "      <td>게임&amp;TV</td>\n",
       "      <td>이어폰(커널형)</td>\n",
       "      <td>3,000원</td>\n",
       "    </tr>\n",
       "  </tbody>\n",
       "</table>\n",
       "</div>"
      ],
      "text/plain": [
       "   구분     분류       상품명    판매금액\n",
       "0   1  게임&TV  이어폰(커널형)  3,000원"
      ]
     },
     "execution_count": 30,
     "metadata": {},
     "output_type": "execute_result"
    }
   ],
   "source": [
    "# 해당 분류 품목들 확인\n",
    "item_data[item_data['분류'] == '게임&TV']"
   ]
  },
  {
   "cell_type": "code",
   "execution_count": 31,
   "metadata": {
    "ExecuteTime": {
     "end_time": "2023-09-17T06:15:05.343802900Z",
     "start_time": "2023-09-17T06:15:05.113974700Z"
    }
   },
   "outputs": [
    {
     "data": {
      "text/html": [
       "<div>\n",
       "<style scoped>\n",
       "    .dataframe tbody tr th:only-of-type {\n",
       "        vertical-align: middle;\n",
       "    }\n",
       "\n",
       "    .dataframe tbody tr th {\n",
       "        vertical-align: top;\n",
       "    }\n",
       "\n",
       "    .dataframe thead th {\n",
       "        text-align: right;\n",
       "    }\n",
       "</style>\n",
       "<table border=\"1\" class=\"dataframe\">\n",
       "  <thead>\n",
       "    <tr style=\"text-align: right;\">\n",
       "      <th></th>\n",
       "      <th>구분</th>\n",
       "      <th>분류</th>\n",
       "      <th>상품명</th>\n",
       "      <th>판매금액</th>\n",
       "    </tr>\n",
       "  </thead>\n",
       "  <tbody>\n",
       "    <tr>\n",
       "      <th>171</th>\n",
       "      <td>172</td>\n",
       "      <td>포장</td>\n",
       "      <td>오늘은 순살닭다리 덮밥</td>\n",
       "      <td>9,000원</td>\n",
       "    </tr>\n",
       "    <tr>\n",
       "      <th>172</th>\n",
       "      <td>173</td>\n",
       "      <td>포장</td>\n",
       "      <td>오늘은 한돈간장불고기</td>\n",
       "      <td>8,000원</td>\n",
       "    </tr>\n",
       "    <tr>\n",
       "      <th>173</th>\n",
       "      <td>174</td>\n",
       "      <td>포장</td>\n",
       "      <td>오늘은 한돈고추장불고기</td>\n",
       "      <td>8,000원</td>\n",
       "    </tr>\n",
       "  </tbody>\n",
       "</table>\n",
       "</div>"
      ],
      "text/plain": [
       "      구분  분류           상품명    판매금액\n",
       "171  172  포장  오늘은 순살닭다리 덮밥  9,000원\n",
       "172  173  포장   오늘은 한돈간장불고기  8,000원\n",
       "173  174  포장  오늘은 한돈고추장불고기  8,000원"
      ]
     },
     "execution_count": 31,
     "metadata": {},
     "output_type": "execute_result"
    }
   ],
   "source": [
    "item_data[item_data['분류'] == '포장']"
   ]
  },
  {
   "cell_type": "markdown",
   "metadata": {},
   "source": [
    "* '게임&TV','포장' 카테고리는 과감히 삭제하여 해당 업무에 들일 자원을 좀더 효율적으로 사용하는것이 좋아보임\n",
    "* 예를 들어 성장기대치가 높은 '디저트'품목에서의 고객이 선호하는 메뉴를 선정해 헤당 메뉴와 비슷한 메뉴를 추가로 만들기가 있음\n",
    "* 디저트 품목에서 고객선호도가 높은 메뉴를 선정해보기"
   ]
  },
  {
   "cell_type": "code",
   "execution_count": 32,
   "metadata": {
    "ExecuteTime": {
     "end_time": "2023-09-17T06:15:05.343802900Z",
     "start_time": "2023-09-17T06:15:05.124818400Z"
    }
   },
   "outputs": [
    {
     "data": {
      "text/html": [
       "<div>\n",
       "<style scoped>\n",
       "    .dataframe tbody tr th:only-of-type {\n",
       "        vertical-align: middle;\n",
       "    }\n",
       "\n",
       "    .dataframe tbody tr th {\n",
       "        vertical-align: top;\n",
       "    }\n",
       "\n",
       "    .dataframe thead th {\n",
       "        text-align: right;\n",
       "    }\n",
       "</style>\n",
       "<table border=\"1\" class=\"dataframe\">\n",
       "  <thead>\n",
       "    <tr style=\"text-align: right;\">\n",
       "      <th></th>\n",
       "      <th>상품명</th>\n",
       "      <th>결제금액</th>\n",
       "    </tr>\n",
       "  </thead>\n",
       "  <tbody>\n",
       "    <tr>\n",
       "      <th>0</th>\n",
       "      <td>초코머핀</td>\n",
       "      <td>588000</td>\n",
       "    </tr>\n",
       "    <tr>\n",
       "      <th>1</th>\n",
       "      <td>치즈케이크</td>\n",
       "      <td>545000</td>\n",
       "    </tr>\n",
       "    <tr>\n",
       "      <th>2</th>\n",
       "      <td>블루베리머핀</td>\n",
       "      <td>367000</td>\n",
       "    </tr>\n",
       "    <tr>\n",
       "      <th>3</th>\n",
       "      <td>쿠키(초코칩)</td>\n",
       "      <td>350000</td>\n",
       "    </tr>\n",
       "    <tr>\n",
       "      <th>4</th>\n",
       "      <td>미니마카롱(3개)</td>\n",
       "      <td>276000</td>\n",
       "    </tr>\n",
       "    <tr>\n",
       "      <th>5</th>\n",
       "      <td>쿠키(마카다미아)</td>\n",
       "      <td>108000</td>\n",
       "    </tr>\n",
       "    <tr>\n",
       "      <th>6</th>\n",
       "      <td>크로플</td>\n",
       "      <td>99000</td>\n",
       "    </tr>\n",
       "    <tr>\n",
       "      <th>7</th>\n",
       "      <td>쿠키(오트밀)</td>\n",
       "      <td>61500</td>\n",
       "    </tr>\n",
       "  </tbody>\n",
       "</table>\n",
       "</div>"
      ],
      "text/plain": [
       "         상품명    결제금액\n",
       "0       초코머핀  588000\n",
       "1      치즈케이크  545000\n",
       "2     블루베리머핀  367000\n",
       "3    쿠키(초코칩)  350000\n",
       "4  미니마카롱(3개)  276000\n",
       "5  쿠키(마카다미아)  108000\n",
       "6        크로플   99000\n",
       "7    쿠키(오트밀)   61500"
      ]
     },
     "execution_count": 32,
     "metadata": {},
     "output_type": "execute_result"
    }
   ],
   "source": [
    "# 가장 많이 팔린 디저트류 내림차순으로 출력하기\n",
    "# 분류에서 디저트에 해당되는 데이터만 추출\n",
    "desserts = none_meal[none_meal['분류'] == '디저트'].reset_index(drop=True)\n",
    "desserts_sum = desserts.groupby('상품명')['결제금액'].sum().reset_index()\n",
    "desserts_sum = desserts_sum.sort_values(by='결제금액', ascending=False).reset_index(drop=True)\n",
    "desserts_sum"
   ]
  },
  {
   "cell_type": "code",
   "execution_count": 33,
   "metadata": {
    "ExecuteTime": {
     "end_time": "2023-09-17T06:15:05.689077200Z",
     "start_time": "2023-09-17T06:15:05.176954600Z"
    }
   },
   "outputs": [
    {
     "data": {
      "image/png": "[encoded data removed]",
      "text/plain": [
       "<Figure size 720x432 with 1 Axes>"
      ]
     },
     "metadata": {},
     "output_type": "display_data"
    }
   ],
   "source": [
    "# 데이터 시각화\n",
    "plt.figure(figsize=(10, 6))\n",
    "sns.barplot(data=desserts_sum, x='상품명', y='결제금액')\n",
    "plt.xlabel('상품명')\n",
    "plt.ylabel('결제금액')\n",
    "plt.title('디저트 판매 순위')\n",
    "plt.xticks(rotation=45)\n",
    "plt.show()"
   ]
  },
  {
   "cell_type": "markdown",
   "metadata": {},
   "source": [
    "* 머핀,케이크류가 인기가 있으나 판매하는 메뉴가 매우 한정적임\n",
    "* 해당메뉴가 인기가 있는 이유가 맛에의한건지 식사대용으로 먹기위함인지 파악한 후, 해당 근거에 맞는 디저트류 메뉴 추가 개발 필요"
   ]
  },
  {
   "cell_type": "code",
   "execution_count": 34,
   "metadata": {
    "ExecuteTime": {
     "end_time": "2023-09-17T06:15:05.689077200Z",
     "start_time": "2023-09-17T06:15:05.375203700Z"
    }
   },
   "outputs": [
    {
     "data": {
      "text/html": [
       "<div>\n",
       "<style scoped>\n",
       "    .dataframe tbody tr th:only-of-type {\n",
       "        vertical-align: middle;\n",
       "    }\n",
       "\n",
       "    .dataframe tbody tr th {\n",
       "        vertical-align: top;\n",
       "    }\n",
       "\n",
       "    .dataframe thead th {\n",
       "        text-align: right;\n",
       "    }\n",
       "</style>\n",
       "<table border=\"1\" class=\"dataframe\">\n",
       "  <thead>\n",
       "    <tr style=\"text-align: right;\">\n",
       "      <th></th>\n",
       "      <th>구분</th>\n",
       "      <th>분류</th>\n",
       "      <th>상품명</th>\n",
       "      <th>판매금액</th>\n",
       "    </tr>\n",
       "  </thead>\n",
       "  <tbody>\n",
       "    <tr>\n",
       "      <th>1</th>\n",
       "      <td>2</td>\n",
       "      <td>디저트</td>\n",
       "      <td>초코머핀</td>\n",
       "      <td>3,500원</td>\n",
       "    </tr>\n",
       "    <tr>\n",
       "      <th>2</th>\n",
       "      <td>3</td>\n",
       "      <td>디저트</td>\n",
       "      <td>쿠키(초코칩)</td>\n",
       "      <td>1,500원</td>\n",
       "    </tr>\n",
       "    <tr>\n",
       "      <th>3</th>\n",
       "      <td>4</td>\n",
       "      <td>디저트</td>\n",
       "      <td>쿠키(마카다미아)</td>\n",
       "      <td>1,500원</td>\n",
       "    </tr>\n",
       "    <tr>\n",
       "      <th>4</th>\n",
       "      <td>5</td>\n",
       "      <td>디저트</td>\n",
       "      <td>미니마카롱(3개)</td>\n",
       "      <td>2,000원</td>\n",
       "    </tr>\n",
       "    <tr>\n",
       "      <th>5</th>\n",
       "      <td>6</td>\n",
       "      <td>디저트</td>\n",
       "      <td>치즈케이크</td>\n",
       "      <td>4,000원</td>\n",
       "    </tr>\n",
       "    <tr>\n",
       "      <th>6</th>\n",
       "      <td>7</td>\n",
       "      <td>디저트</td>\n",
       "      <td>블루베리머핀</td>\n",
       "      <td>3,500원</td>\n",
       "    </tr>\n",
       "    <tr>\n",
       "      <th>7</th>\n",
       "      <td>8</td>\n",
       "      <td>디저트</td>\n",
       "      <td>쿠키(오트밀)</td>\n",
       "      <td>1,500원</td>\n",
       "    </tr>\n",
       "    <tr>\n",
       "      <th>8</th>\n",
       "      <td>9</td>\n",
       "      <td>디저트</td>\n",
       "      <td>크로플</td>\n",
       "      <td>5,500원</td>\n",
       "    </tr>\n",
       "    <tr>\n",
       "      <th>9</th>\n",
       "      <td>10</td>\n",
       "      <td>디저트</td>\n",
       "      <td>치즈케이크</td>\n",
       "      <td>1,500원</td>\n",
       "    </tr>\n",
       "    <tr>\n",
       "      <th>10</th>\n",
       "      <td>11</td>\n",
       "      <td>디저트</td>\n",
       "      <td>미니마카롱(3개)</td>\n",
       "      <td>1,500원</td>\n",
       "    </tr>\n",
       "    <tr>\n",
       "      <th>11</th>\n",
       "      <td>12</td>\n",
       "      <td>디저트</td>\n",
       "      <td>블루베리머핀</td>\n",
       "      <td>1,500원</td>\n",
       "    </tr>\n",
       "    <tr>\n",
       "      <th>12</th>\n",
       "      <td>13</td>\n",
       "      <td>디저트</td>\n",
       "      <td>쿠키(초코칩)</td>\n",
       "      <td>1,000원</td>\n",
       "    </tr>\n",
       "  </tbody>\n",
       "</table>\n",
       "</div>"
      ],
      "text/plain": [
       "    구분   분류        상품명    판매금액\n",
       "1    2  디저트       초코머핀  3,500원\n",
       "2    3  디저트    쿠키(초코칩)  1,500원\n",
       "3    4  디저트  쿠키(마카다미아)  1,500원\n",
       "4    5  디저트  미니마카롱(3개)  2,000원\n",
       "5    6  디저트      치즈케이크  4,000원\n",
       "6    7  디저트     블루베리머핀  3,500원\n",
       "7    8  디저트    쿠키(오트밀)  1,500원\n",
       "8    9  디저트        크로플  5,500원\n",
       "9   10  디저트      치즈케이크  1,500원\n",
       "10  11  디저트  미니마카롱(3개)  1,500원\n",
       "11  12  디저트     블루베리머핀  1,500원\n",
       "12  13  디저트    쿠키(초코칩)  1,000원"
      ]
     },
     "execution_count": 34,
     "metadata": {},
     "output_type": "execute_result"
    }
   ],
   "source": [
    "# 판매 디저트메뉴와 전체 디저트메뉴의 품목 전체 갯수 파악하기\n",
    "desserts_total = item_data[item_data['분류'] == '디저트']\n",
    "desserts_total"
   ]
  },
  {
   "cell_type": "code",
   "execution_count": 35,
   "metadata": {
    "ExecuteTime": {
     "end_time": "2023-09-17T06:15:05.689077200Z",
     "start_time": "2023-09-17T06:15:05.391162900Z"
    }
   },
   "outputs": [
    {
     "name": "stdout",
     "output_type": "stream",
     "text": [
      "['미니마카롱(3개)', '블루베리머핀', '초코머핀', '치즈케이크', '쿠키(마카다미아)', '쿠키(오트밀)', '쿠키(초코칩)', '크로플']\n",
      "['미니마카롱(3개)', '블루베리머핀', '초코머핀', '치즈케이크', '쿠키(마카다미아)', '쿠키(오트밀)', '쿠키(초코칩)', '크로플']\n"
     ]
    }
   ],
   "source": [
    "# 같은 메뉴로 가격이 다른것은 제외하고 한번이라도 팔린 메뉴와 전체 메뉴의 고유값 확인\n",
    "print(sorted(list(desserts_sum['상품명'])))\n",
    "print(sorted(list(desserts_total['상품명'].unique())))"
   ]
  },
  {
   "cell_type": "markdown",
   "metadata": {},
   "source": [
    "* 디저트의 총 메뉴는 8개 이므로 다른 분류들에 비해 종류가 부족해보임 지속적인 매출 향상을 위해서는 선호하는 디저트류를 늘리기를 추천함."
   ]
  },
  {
   "cell_type": "markdown",
   "metadata": {
    "ExecuteTime": {
     "end_time": "2023-09-17T06:15:05.689077200Z",
     "start_time": "2023-09-17T06:15:05.395794700Z"
    }
   },
   "source": [
    "##### 5.고객 등급 구분 및 등급별 매출 확인"
   ]
  },
  {
   "cell_type": "code",
   "execution_count": 36,
   "metadata": {},
   "outputs": [],
   "source": [
    "# 고객별 요금제 결제 금액 집계\n",
    "temp_var = entry_data[['고객', '금액']]\n",
    "entry_customer_payment = temp_var.groupby('고객').agg({'금액':'sum'})\n",
    "entry_customer_payment.sort_values(by='금액', ascending=False, inplace=True)\n",
    "entry_customer_payment.reset_index(inplace=True)"
   ]
  },
  {
   "cell_type": "markdown",
   "metadata": {},
   "source": [
    "* 집계된 금액이 0인 데이터 행 38개는 결제 후 환불한 고객이라고 판단하여 데이터에서 제거함"
   ]
  },
  {
   "cell_type": "code",
   "execution_count": 37,
   "metadata": {},
   "outputs": [],
   "source": [
    "# 금액이 0인 데이터 제거\n",
    "entry_customer_payment.drop(entry_customer_payment[entry_customer_payment['금액'] == 0].index, inplace=True)"
   ]
  },
  {
   "cell_type": "code",
   "execution_count": 38,
   "metadata": {},
   "outputs": [
    {
     "data": {
      "text/html": [
       "<div>\n",
       "<style scoped>\n",
       "    .dataframe tbody tr th:only-of-type {\n",
       "        vertical-align: middle;\n",
       "    }\n",
       "\n",
       "    .dataframe tbody tr th {\n",
       "        vertical-align: top;\n",
       "    }\n",
       "\n",
       "    .dataframe thead th {\n",
       "        text-align: right;\n",
       "    }\n",
       "</style>\n",
       "<table border=\"1\" class=\"dataframe\">\n",
       "  <thead>\n",
       "    <tr style=\"text-align: right;\">\n",
       "      <th></th>\n",
       "      <th>Customer_ID</th>\n",
       "      <th>Entry_payment</th>\n",
       "    </tr>\n",
       "  </thead>\n",
       "  <tbody>\n",
       "    <tr>\n",
       "      <th>0</th>\n",
       "      <td>customer338849</td>\n",
       "      <td>949500</td>\n",
       "    </tr>\n",
       "    <tr>\n",
       "      <th>1</th>\n",
       "      <td>customer667032</td>\n",
       "      <td>478500</td>\n",
       "    </tr>\n",
       "    <tr>\n",
       "      <th>2</th>\n",
       "      <td>customer488580</td>\n",
       "      <td>314500</td>\n",
       "    </tr>\n",
       "    <tr>\n",
       "      <th>3</th>\n",
       "      <td>customer744264</td>\n",
       "      <td>279900</td>\n",
       "    </tr>\n",
       "    <tr>\n",
       "      <th>4</th>\n",
       "      <td>customer676713</td>\n",
       "      <td>277000</td>\n",
       "    </tr>\n",
       "  </tbody>\n",
       "</table>\n",
       "</div>"
      ],
      "text/plain": [
       "      Customer_ID  Entry_payment\n",
       "0  customer338849         949500\n",
       "1  customer667032         478500\n",
       "2  customer488580         314500\n",
       "3  customer744264         279900\n",
       "4  customer676713         277000"
      ]
     },
     "execution_count": 38,
     "metadata": {},
     "output_type": "execute_result"
    }
   ],
   "source": [
    "# 컬럼명 변경\n",
    "entry_customer_payment.rename(columns={'고객':'Customer_ID', '금액':'Entry_payment'}, inplace=True)\n",
    "entry_customer_payment.head()"
   ]
  },
  {
   "cell_type": "code",
   "execution_count": 39,
   "metadata": {},
   "outputs": [],
   "source": [
    "# 고객별 음식/음료 결제 금액 집계\n",
    "temp_var = sales_data[['고객', '결제금액']]\n",
    "#temp_var['결제금액'] = temp_var['결제금액'].str.replace(',', '')\n",
    "temp_var['결제금액'] = temp_var['결제금액'].astype('int')\n",
    "item_customer_payment = temp_var.groupby('고객').agg({'결제금액':'sum'})\n",
    "item_customer_payment.sort_values(by='결제금액', ascending=False, inplace=True)\n",
    "item_customer_payment.reset_index(inplace=True)"
   ]
  },
  {
   "cell_type": "code",
   "execution_count": 40,
   "metadata": {},
   "outputs": [],
   "source": [
    "# 결제금액이 0인 데이터 제거\n",
    "item_customer_payment.drop(item_customer_payment[item_customer_payment['결제금액']==0].index, inplace=True)"
   ]
  },
  {
   "cell_type": "code",
   "execution_count": 41,
   "metadata": {},
   "outputs": [
    {
     "data": {
      "text/html": [
       "<div>\n",
       "<style scoped>\n",
       "    .dataframe tbody tr th:only-of-type {\n",
       "        vertical-align: middle;\n",
       "    }\n",
       "\n",
       "    .dataframe tbody tr th {\n",
       "        vertical-align: top;\n",
       "    }\n",
       "\n",
       "    .dataframe thead th {\n",
       "        text-align: right;\n",
       "    }\n",
       "</style>\n",
       "<table border=\"1\" class=\"dataframe\">\n",
       "  <thead>\n",
       "    <tr style=\"text-align: right;\">\n",
       "      <th></th>\n",
       "      <th>Customer_ID</th>\n",
       "      <th>Item_payment</th>\n",
       "    </tr>\n",
       "  </thead>\n",
       "  <tbody>\n",
       "    <tr>\n",
       "      <th>0</th>\n",
       "      <td>customer667032</td>\n",
       "      <td>263500</td>\n",
       "    </tr>\n",
       "    <tr>\n",
       "      <th>1</th>\n",
       "      <td>customer499864</td>\n",
       "      <td>151300</td>\n",
       "    </tr>\n",
       "    <tr>\n",
       "      <th>2</th>\n",
       "      <td>customer977070</td>\n",
       "      <td>128800</td>\n",
       "    </tr>\n",
       "    <tr>\n",
       "      <th>3</th>\n",
       "      <td>customer859632</td>\n",
       "      <td>118500</td>\n",
       "    </tr>\n",
       "    <tr>\n",
       "      <th>4</th>\n",
       "      <td>customer581973</td>\n",
       "      <td>112500</td>\n",
       "    </tr>\n",
       "  </tbody>\n",
       "</table>\n",
       "</div>"
      ],
      "text/plain": [
       "      Customer_ID  Item_payment\n",
       "0  customer667032        263500\n",
       "1  customer499864        151300\n",
       "2  customer977070        128800\n",
       "3  customer859632        118500\n",
       "4  customer581973        112500"
      ]
     },
     "execution_count": 41,
     "metadata": {},
     "output_type": "execute_result"
    }
   ],
   "source": [
    "# 컬럼명 변경\n",
    "item_customer_payment.rename(columns={'고객':'Customer_ID', '결제금액':'Item_payment'}, inplace=True)\n",
    "item_customer_payment.head()"
   ]
  },
  {
   "cell_type": "code",
   "execution_count": 42,
   "metadata": {},
   "outputs": [],
   "source": [
    "# 데이터프레임 병합\n",
    "customer_payment = entry_customer_payment.merge(item_customer_payment, on='Customer_ID', how='outer')"
   ]
  },
  {
   "cell_type": "code",
   "execution_count": 43,
   "metadata": {},
   "outputs": [
    {
     "data": {
      "text/html": [
       "<div>\n",
       "<style scoped>\n",
       "    .dataframe tbody tr th:only-of-type {\n",
       "        vertical-align: middle;\n",
       "    }\n",
       "\n",
       "    .dataframe tbody tr th {\n",
       "        vertical-align: top;\n",
       "    }\n",
       "\n",
       "    .dataframe thead th {\n",
       "        text-align: right;\n",
       "    }\n",
       "</style>\n",
       "<table border=\"1\" class=\"dataframe\">\n",
       "  <thead>\n",
       "    <tr style=\"text-align: right;\">\n",
       "      <th></th>\n",
       "      <th>Customer_ID</th>\n",
       "      <th>Entry_payment</th>\n",
       "      <th>Item_payment</th>\n",
       "    </tr>\n",
       "  </thead>\n",
       "  <tbody>\n",
       "    <tr>\n",
       "      <th>0</th>\n",
       "      <td>customer338849</td>\n",
       "      <td>949500.0</td>\n",
       "      <td>14000.0</td>\n",
       "    </tr>\n",
       "    <tr>\n",
       "      <th>1</th>\n",
       "      <td>customer667032</td>\n",
       "      <td>478500.0</td>\n",
       "      <td>263500.0</td>\n",
       "    </tr>\n",
       "    <tr>\n",
       "      <th>2</th>\n",
       "      <td>customer488580</td>\n",
       "      <td>314500.0</td>\n",
       "      <td>33000.0</td>\n",
       "    </tr>\n",
       "    <tr>\n",
       "      <th>3</th>\n",
       "      <td>customer744264</td>\n",
       "      <td>279900.0</td>\n",
       "      <td>9000.0</td>\n",
       "    </tr>\n",
       "    <tr>\n",
       "      <th>4</th>\n",
       "      <td>customer676713</td>\n",
       "      <td>277000.0</td>\n",
       "      <td>0.0</td>\n",
       "    </tr>\n",
       "  </tbody>\n",
       "</table>\n",
       "</div>"
      ],
      "text/plain": [
       "      Customer_ID  Entry_payment  Item_payment\n",
       "0  customer338849       949500.0       14000.0\n",
       "1  customer667032       478500.0      263500.0\n",
       "2  customer488580       314500.0       33000.0\n",
       "3  customer744264       279900.0        9000.0\n",
       "4  customer676713       277000.0           0.0"
      ]
     },
     "execution_count": 43,
     "metadata": {},
     "output_type": "execute_result"
    }
   ],
   "source": [
    "# 결측치 0으로 대체\n",
    "customer_payment.fillna(0, inplace=True)\n",
    "customer_payment.head()"
   ]
  },
  {
   "cell_type": "markdown",
   "metadata": {},
   "source": [
    "###### Try 1) 입장권 결제액, 상품 결제액 기준으로 고객 클러스터링"
   ]
  },
  {
   "cell_type": "code",
   "execution_count": 44,
   "metadata": {},
   "outputs": [
    {
     "data": {
      "text/plain": [
       "<AxesSubplot:xlabel='Entry_payment', ylabel='Item_payment'>"
      ]
     },
     "execution_count": 44,
     "metadata": {},
     "output_type": "execute_result"
    },
    {
     "data": {
      "image/png": "[encoded data removed]",
      "text/plain": [
       "<Figure size 720x432 with 1 Axes>"
      ]
     },
     "metadata": {},
     "output_type": "display_data"
    }
   ],
   "source": [
    "# 분포 확인\n",
    "plt.figure(figsize=(10, 6))\n",
    "sns.scatterplot(data=customer_payment, x='Entry_payment', y='Item_payment')"
   ]
  },
  {
   "cell_type": "markdown",
   "metadata": {},
   "source": [
    "* 이상치 때문에 제대로 파악이 안됨"
   ]
  },
  {
   "cell_type": "code",
   "execution_count": 45,
   "metadata": {},
   "outputs": [],
   "source": [
    "# 이상치 분리\n",
    "customer_outlier = customer_payment[(customer_payment['Entry_payment']>800000)|(customer_payment['Item_payment']>250000)]\n",
    "customer_payment.drop(customer_payment[(customer_payment['Entry_payment']>800000)|(customer_payment['Item_payment']>250000)].index, inplace=True)"
   ]
  },
  {
   "cell_type": "code",
   "execution_count": 46,
   "metadata": {},
   "outputs": [
    {
     "data": {
      "text/plain": [
       "<AxesSubplot:xlabel='Entry_payment', ylabel='Item_payment'>"
      ]
     },
     "execution_count": 46,
     "metadata": {},
     "output_type": "execute_result"
    },
    {
     "data": {
      "image/png": "[encoded data removed]",
      "text/plain": [
       "<Figure size 720x432 with 1 Axes>"
      ]
     },
     "metadata": {},
     "output_type": "display_data"
    }
   ],
   "source": [
    "# 이상치를 제거한 데이터 분포 확인\n",
    "plt.figure(figsize=(10, 6))\n",
    "sns.scatterplot(data=customer_payment, x='Entry_payment', y='Item_payment')"
   ]
  },
  {
   "cell_type": "code",
   "execution_count": 47,
   "metadata": {},
   "outputs": [],
   "source": [
    "# 라이브러리 호출\n",
    "from sklearn.cluster import KMeans\n",
    "from sklearn import preprocessing"
   ]
  },
  {
   "cell_type": "code",
   "execution_count": 48,
   "metadata": {},
   "outputs": [
    {
     "data": {
      "text/plain": [
       "KMeans(n_clusters=5, random_state=25)"
      ]
     },
     "execution_count": 48,
     "metadata": {},
     "output_type": "execute_result"
    }
   ],
   "source": [
    "# K-means Clustering\n",
    "Kmeans = KMeans(n_clusters=5, n_init=10, random_state=25)\n",
    "\n",
    "# 적합\n",
    "temp_var = customer_payment[['Entry_payment', 'Item_payment']]\n",
    "Kmeans.fit(temp_var)"
   ]
  },
  {
   "cell_type": "code",
   "execution_count": 49,
   "metadata": {},
   "outputs": [
    {
     "data": {
      "text/html": [
       "<div>\n",
       "<style scoped>\n",
       "    .dataframe tbody tr th:only-of-type {\n",
       "        vertical-align: middle;\n",
       "    }\n",
       "\n",
       "    .dataframe tbody tr th {\n",
       "        vertical-align: top;\n",
       "    }\n",
       "\n",
       "    .dataframe thead th {\n",
       "        text-align: right;\n",
       "    }\n",
       "</style>\n",
       "<table border=\"1\" class=\"dataframe\">\n",
       "  <thead>\n",
       "    <tr style=\"text-align: right;\">\n",
       "      <th></th>\n",
       "      <th>Customer_ID</th>\n",
       "      <th>Entry_payment</th>\n",
       "      <th>Item_payment</th>\n",
       "      <th>Cluster</th>\n",
       "    </tr>\n",
       "  </thead>\n",
       "  <tbody>\n",
       "    <tr>\n",
       "      <th>2</th>\n",
       "      <td>customer488580</td>\n",
       "      <td>314500.0</td>\n",
       "      <td>33000.0</td>\n",
       "      <td>1.0</td>\n",
       "    </tr>\n",
       "    <tr>\n",
       "      <th>3</th>\n",
       "      <td>customer744264</td>\n",
       "      <td>279900.0</td>\n",
       "      <td>9000.0</td>\n",
       "      <td>1.0</td>\n",
       "    </tr>\n",
       "    <tr>\n",
       "      <th>4</th>\n",
       "      <td>customer676713</td>\n",
       "      <td>277000.0</td>\n",
       "      <td>0.0</td>\n",
       "      <td>1.0</td>\n",
       "    </tr>\n",
       "    <tr>\n",
       "      <th>5</th>\n",
       "      <td>customer529849</td>\n",
       "      <td>240000.0</td>\n",
       "      <td>41500.0</td>\n",
       "      <td>1.0</td>\n",
       "    </tr>\n",
       "    <tr>\n",
       "      <th>6</th>\n",
       "      <td>customer243082</td>\n",
       "      <td>240000.0</td>\n",
       "      <td>78000.0</td>\n",
       "      <td>1.0</td>\n",
       "    </tr>\n",
       "  </tbody>\n",
       "</table>\n",
       "</div>"
      ],
      "text/plain": [
       "      Customer_ID  Entry_payment  Item_payment  Cluster\n",
       "2  customer488580       314500.0       33000.0      1.0\n",
       "3  customer744264       279900.0        9000.0      1.0\n",
       "4  customer676713       277000.0           0.0      1.0\n",
       "5  customer529849       240000.0       41500.0      1.0\n",
       "6  customer243082       240000.0       78000.0      1.0"
      ]
     },
     "execution_count": 49,
     "metadata": {},
     "output_type": "execute_result"
    }
   ],
   "source": [
    "# 클러스터링 결과를 새로운 컬럼에 추가\n",
    "cluster_label = Kmeans.labels_\n",
    "customer_payment['Cluster'] = pd.DataFrame(cluster_label)\n",
    "customer_payment.head()"
   ]
  },
  {
   "cell_type": "code",
   "execution_count": 50,
   "metadata": {},
   "outputs": [
    {
     "data": {
      "text/plain": [
       "Text(0.5, 0, '입장권 판매액')"
      ]
     },
     "execution_count": 50,
     "metadata": {},
     "output_type": "execute_result"
    },
    {
     "data": {
      "image/png": "[encoded data removed]",
      "text/plain": [
       "<Figure size 720x432 with 1 Axes>"
      ]
     },
     "metadata": {},
     "output_type": "display_data"
    }
   ],
   "source": [
    "# 클러스터링 결과 시각화\n",
    "plt.figure(figsize=(10, 6))\n",
    "sns.scatterplot(data=customer_payment, x='Entry_payment', y='Item_payment', hue='Cluster')\n",
    "plt.ylabel('음식/음료 판매액')\n",
    "plt.xlabel('입장권 판매액')"
   ]
  },
  {
   "cell_type": "markdown",
   "metadata": {},
   "source": [
    "* 클러스터링 기법은 고객을 구분하기에 적합하지 않음"
   ]
  },
  {
   "cell_type": "markdown",
   "metadata": {},
   "source": [
    "###### Try 2) 총 결제액으로 고객 등급 구분"
   ]
  },
  {
   "cell_type": "code",
   "execution_count": 51,
   "metadata": {},
   "outputs": [],
   "source": [
    "# 분리했던 이상치 결합\n",
    "customer_payment.append(customer_outlier)\n",
    "\n",
    "# Cluster 컬럼 삭제\n",
    "customer_payment.drop('Cluster', axis=1, inplace=True)"
   ]
  },
  {
   "cell_type": "code",
   "execution_count": 52,
   "metadata": {},
   "outputs": [
    {
     "data": {
      "text/html": [
       "<div>\n",
       "<style scoped>\n",
       "    .dataframe tbody tr th:only-of-type {\n",
       "        vertical-align: middle;\n",
       "    }\n",
       "\n",
       "    .dataframe tbody tr th {\n",
       "        vertical-align: top;\n",
       "    }\n",
       "\n",
       "    .dataframe thead th {\n",
       "        text-align: right;\n",
       "    }\n",
       "</style>\n",
       "<table border=\"1\" class=\"dataframe\">\n",
       "  <thead>\n",
       "    <tr style=\"text-align: right;\">\n",
       "      <th></th>\n",
       "      <th>Customer_ID</th>\n",
       "      <th>Entry_payment</th>\n",
       "      <th>Item_payment</th>\n",
       "      <th>Total_payment</th>\n",
       "    </tr>\n",
       "  </thead>\n",
       "  <tbody>\n",
       "    <tr>\n",
       "      <th>0</th>\n",
       "      <td>customer488580</td>\n",
       "      <td>314500.0</td>\n",
       "      <td>33000.0</td>\n",
       "      <td>347500.0</td>\n",
       "    </tr>\n",
       "    <tr>\n",
       "      <th>1</th>\n",
       "      <td>customer977070</td>\n",
       "      <td>192800.0</td>\n",
       "      <td>128800.0</td>\n",
       "      <td>321600.0</td>\n",
       "    </tr>\n",
       "    <tr>\n",
       "      <th>2</th>\n",
       "      <td>customer496146</td>\n",
       "      <td>237500.0</td>\n",
       "      <td>84000.0</td>\n",
       "      <td>321500.0</td>\n",
       "    </tr>\n",
       "    <tr>\n",
       "      <th>3</th>\n",
       "      <td>customer243082</td>\n",
       "      <td>240000.0</td>\n",
       "      <td>78000.0</td>\n",
       "      <td>318000.0</td>\n",
       "    </tr>\n",
       "    <tr>\n",
       "      <th>4</th>\n",
       "      <td>customer941866</td>\n",
       "      <td>239500.0</td>\n",
       "      <td>53500.0</td>\n",
       "      <td>293000.0</td>\n",
       "    </tr>\n",
       "  </tbody>\n",
       "</table>\n",
       "</div>"
      ],
      "text/plain": [
       "      Customer_ID  Entry_payment  Item_payment  Total_payment\n",
       "0  customer488580       314500.0       33000.0       347500.0\n",
       "1  customer977070       192800.0      128800.0       321600.0\n",
       "2  customer496146       237500.0       84000.0       321500.0\n",
       "3  customer243082       240000.0       78000.0       318000.0\n",
       "4  customer941866       239500.0       53500.0       293000.0"
      ]
     },
     "execution_count": 52,
     "metadata": {},
     "output_type": "execute_result"
    }
   ],
   "source": [
    "# 고객별 총 결제 금액 집계\n",
    "customer_payment['Total_payment'] = customer_payment['Entry_payment'] + customer_payment['Item_payment'] # Total_payment 컬럼 생성\n",
    "customer_payment.sort_values(by='Total_payment', ascending=False, inplace=True)                         # Total_payment 기준 정렬\n",
    "customer_payment.reset_index(drop=True, inplace=True)                                                   # 인덱스 재설정\n",
    "customer_payment.head()"
   ]
  },
  {
   "cell_type": "code",
   "execution_count": 53,
   "metadata": {},
   "outputs": [
    {
     "data": {
      "text/html": [
       "<div>\n",
       "<style scoped>\n",
       "    .dataframe tbody tr th:only-of-type {\n",
       "        vertical-align: middle;\n",
       "    }\n",
       "\n",
       "    .dataframe tbody tr th {\n",
       "        vertical-align: top;\n",
       "    }\n",
       "\n",
       "    .dataframe thead th {\n",
       "        text-align: right;\n",
       "    }\n",
       "</style>\n",
       "<table border=\"1\" class=\"dataframe\">\n",
       "  <thead>\n",
       "    <tr style=\"text-align: right;\">\n",
       "      <th></th>\n",
       "      <th>Customer_ID</th>\n",
       "      <th>Entry_payment</th>\n",
       "      <th>Item_payment</th>\n",
       "      <th>Total_payment</th>\n",
       "      <th>Class</th>\n",
       "    </tr>\n",
       "  </thead>\n",
       "  <tbody>\n",
       "    <tr>\n",
       "      <th>0</th>\n",
       "      <td>customer488580</td>\n",
       "      <td>314500.0</td>\n",
       "      <td>33000.0</td>\n",
       "      <td>347500.0</td>\n",
       "      <td>1</td>\n",
       "    </tr>\n",
       "    <tr>\n",
       "      <th>1</th>\n",
       "      <td>customer977070</td>\n",
       "      <td>192800.0</td>\n",
       "      <td>128800.0</td>\n",
       "      <td>321600.0</td>\n",
       "      <td>1</td>\n",
       "    </tr>\n",
       "    <tr>\n",
       "      <th>2</th>\n",
       "      <td>customer496146</td>\n",
       "      <td>237500.0</td>\n",
       "      <td>84000.0</td>\n",
       "      <td>321500.0</td>\n",
       "      <td>1</td>\n",
       "    </tr>\n",
       "    <tr>\n",
       "      <th>3</th>\n",
       "      <td>customer243082</td>\n",
       "      <td>240000.0</td>\n",
       "      <td>78000.0</td>\n",
       "      <td>318000.0</td>\n",
       "      <td>1</td>\n",
       "    </tr>\n",
       "    <tr>\n",
       "      <th>4</th>\n",
       "      <td>customer941866</td>\n",
       "      <td>239500.0</td>\n",
       "      <td>53500.0</td>\n",
       "      <td>293000.0</td>\n",
       "      <td>1</td>\n",
       "    </tr>\n",
       "  </tbody>\n",
       "</table>\n",
       "</div>"
      ],
      "text/plain": [
       "      Customer_ID  Entry_payment  Item_payment  Total_payment Class\n",
       "0  customer488580       314500.0       33000.0       347500.0     1\n",
       "1  customer977070       192800.0      128800.0       321600.0     1\n",
       "2  customer496146       237500.0       84000.0       321500.0     1\n",
       "3  customer243082       240000.0       78000.0       318000.0     1\n",
       "4  customer941866       239500.0       53500.0       293000.0     1"
      ]
     },
     "execution_count": 53,
     "metadata": {},
     "output_type": "execute_result"
    }
   ],
   "source": [
    "# 등급 나누기\n",
    "customer_payment['Class'] = pd.qcut(customer_payment['Total_payment'], q=[0, 0.4, 0.65, 0.85, 0.99, 1], labels=[5, 4, 3, 2, 1])\n",
    "customer_payment.head()"
   ]
  },
  {
   "cell_type": "code",
   "execution_count": 54,
   "metadata": {},
   "outputs": [
    {
     "data": {
      "text/plain": [
       "5    2340\n",
       "4    1277\n",
       "3    1094\n",
       "2     765\n",
       "1      56\n",
       "Name: Class, dtype: int64"
      ]
     },
     "execution_count": 54,
     "metadata": {},
     "output_type": "execute_result"
    }
   ],
   "source": [
    "# 등급별 고객 수 확인\n",
    "customer_payment['Class'].value_counts()"
   ]
  },
  {
   "cell_type": "code",
   "execution_count": 55,
   "metadata": {},
   "outputs": [
    {
     "data": {
      "text/plain": [
       "Text(0.5, 0, '입장권 판매액')"
      ]
     },
     "execution_count": 55,
     "metadata": {},
     "output_type": "execute_result"
    },
    {
     "data": {
      "image/png": "[encoded data removed]",
      "text/plain": [
       "<Figure size 864x432 with 2 Axes>"
      ]
     },
     "metadata": {},
     "output_type": "display_data"
    }
   ],
   "source": [
    "# 등급별 시각화\n",
    "fig, (ax1, ax2) = plt.subplots(nrows=1, ncols=2, figsize=(12, 6))\n",
    "\n",
    "# Pie Chart\n",
    "temp_var = customer_payment['Customer_ID'].groupby(customer_payment['Class']).count()\n",
    "ax1.pie(temp_var, labels=temp_var.index, autopct='%1.1f%%')\n",
    "ax1.legend()\n",
    "ax1.set_title('Propotion')\n",
    "\n",
    "# Scatter Plot\n",
    "ax2 = sns.scatterplot(data=customer_payment, x='Entry_payment', y='Item_payment', hue='Class')\n",
    "ax2.set_title('Scatter Plot')\n",
    "plt.ylabel('음식/음료 판매액')\n",
    "plt.xlabel('입장권 판매액')"
   ]
  },
  {
   "cell_type": "code",
   "execution_count": 56,
   "metadata": {},
   "outputs": [
    {
     "data": {
      "image/png": "[encoded data removed]",
      "text/plain": [
       "<Figure size 432x288 with 1 Axes>"
      ]
     },
     "metadata": {},
     "output_type": "display_data"
    }
   ],
   "source": [
    "# 등급 기준으로 평균 결제액 집계\n",
    "temp_var = customer_payment.groupby('Class').agg({'Entry_payment':'mean', 'Item_payment':'mean'})\n",
    "temp_var = temp_var.rename(columns={'Entry_payment':'입장권 판매액', 'Item_payment':'음식/음료 판매액'})\n",
    "\n",
    "# 등급별 평균 결제액 시각화\n",
    "temp_var.plot(kind='bar', stacked=True)\n",
    "plt.show()"
   ]
  },
  {
   "cell_type": "markdown",
   "metadata": {},
   "source": [
    "* 입장권 결제액이 평균 매출액의 대부분을 차지하고 있으므로 입장권 판매량을 늘리는 데 집중해야 함  \n",
    "* Class 3~5에 해당하는 고객을 대상으로 입장권 및 음식/음료 판매량 촉진을 위한 프로모션을 기획할 수 있음"
   ]
  },
  {
   "cell_type": "markdown",
   "source": [
    "## 회고\n",
    "\n",
    "---\n",
    "\n",
    "### 프로젝트 목표\n",
    "1. 필수 문제 세 가지를 해결하였는가?\n",
    "* 데이터 전처리 후, 시각화 도구를 사용하여 문제를 해결함\n",
    "2. 프로젝트롤 통해 해결하고 싶은 문제를 정의하였는가?\n",
    "* 제공된 데이터를 기반으로 문제해결에 필요한 부분을 선별한 후, 데이터 전처리 및 시각화를 완료하였음\n",
    "3. 내가 정의한 문제를 해결하려고 하였고, 적절한 결과를 도출 하였는가?\n",
    "* 스스로 정의한 문제에 대한 인사이트를 도출함.\n",
    "\n",
    "### 추가 정의 문제\n",
    "1. 시간대별 결제 총합을 구한 후, 고객이 가장 많이 몰리는 시간대 파악\n",
    "2. 판매 데이터에서 분류별로 묶은후 합계 도출 한 후, 매출에 상관없는 메뉴 등 파악\n",
    "3. 카페의 음료 종류만 골라 시간대별 판매금액 확인 후, 음료메뉴의 세부사항 조절\n",
    "4. 종합적인 메뉴 수정 및 수정 가이드 제공하기\n",
    "5. 고객아이디를 기준으로 등급별 군집화 해보기\n",
    "\n",
    "### 총평\n",
    "* 이번 프로젝트에서는 데이터 시각화 위주였기 때문에, 시각화를 위한 데이터 전처리를 공부를 할 수 있었다.\n",
    "* 다른 교육 과정과는 다르게 스스로 문제를 정의하는 부분이 있어 생소하지만 데이터에 대한 심화적인 생각을 할 수 있었다.\n",
    "* 문제를 스스로 정의하며 하고 싶은 시도는 많았지만 시간 및 데이터 전처리에 대한 정보 부족으로 인해 내가 생각하는것을 모두 구현해 보지 못함.\n",
    "* 이번 제공 데이터는 데이터에대한 설명이 부족하여, 데이터가 무엇을 뜻하는지 전체적으로 알 수 없는 부분이 너무 많았기에 데이터에 대한 아쉬움이 있음.\n",
    "* 고객을 클래스별로 군집화를 진행하였으나, 적절하지 못한 방법도 있었기에 다양한 방법으로 시도하여 오히려 더 보기 좋은 결과를 도출해낸 부분에 있어 개인적으로 공부가 되었음."
   ],
   "metadata": {
    "collapsed": false
   }
  },
  {
   "cell_type": "code",
   "execution_count": null,
   "outputs": [],
   "source": [],
   "metadata": {
    "collapsed": false
   }
  }
 ],
 "metadata": {
  "kernelspec": {
   "display_name": "Python 3 (ipykernel)",
   "language": "python",
   "name": "python3"
  },
  "language_info": {
   "codemirror_mode": {
    "name": "ipython",
    "version": 3
   },
   "file_extension": ".py",
   "mimetype": "text/x-python",
   "name": "python",
   "nbconvert_exporter": "python",
   "pygments_lexer": "ipython3",
   "version": "3.9.7"
  }
 },
 "nbformat": 4,
 "nbformat_minor": 1
}
